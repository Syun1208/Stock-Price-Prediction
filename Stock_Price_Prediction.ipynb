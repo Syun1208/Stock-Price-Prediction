{
  "cells": [
    {
      "cell_type": "code",
      "source": [
        "from google.colab import drive\n",
        "drive.mount('/content/drive')"
      ],
      "metadata": {
        "colab": {
          "base_uri": "https://localhost:8080/"
        },
        "id": "hr2yvrhJgbeM",
        "outputId": "01414e0a-f6c9-4684-b04b-caa03c808719"
      },
      "execution_count": null,
      "outputs": [
        {
          "output_type": "stream",
          "name": "stdout",
          "text": [
            "Mounted at /content/drive\n"
          ]
        }
      ]
    },
    {
      "cell_type": "code",
      "execution_count": null,
      "metadata": {
        "colab": {
          "base_uri": "https://localhost:8080/"
        },
        "id": "1eluueIfq7yx",
        "outputId": "430cc7f7-1a4f-478b-c838-878b52fa595a"
      },
      "outputs": [
        {
          "output_type": "stream",
          "name": "stdout",
          "text": [
            "Sun Dec 25 11:21:29 2022       \n",
            "+-----------------------------------------------------------------------------+\n",
            "| NVIDIA-SMI 460.32.03    Driver Version: 460.32.03    CUDA Version: 11.2     |\n",
            "|-------------------------------+----------------------+----------------------+\n",
            "| GPU  Name        Persistence-M| Bus-Id        Disp.A | Volatile Uncorr. ECC |\n",
            "| Fan  Temp  Perf  Pwr:Usage/Cap|         Memory-Usage | GPU-Util  Compute M. |\n",
            "|                               |                      |               MIG M. |\n",
            "|===============================+======================+======================|\n",
            "|   0  Tesla T4            Off  | 00000000:00:04.0 Off |                    0 |\n",
            "| N/A   59C    P0    27W /  70W |      0MiB / 15109MiB |      0%      Default |\n",
            "|                               |                      |                  N/A |\n",
            "+-------------------------------+----------------------+----------------------+\n",
            "                                                                               \n",
            "+-----------------------------------------------------------------------------+\n",
            "| Processes:                                                                  |\n",
            "|  GPU   GI   CI        PID   Type   Process name                  GPU Memory |\n",
            "|        ID   ID                                                   Usage      |\n",
            "|=============================================================================|\n",
            "|  No running processes found                                                 |\n",
            "+-----------------------------------------------------------------------------+\n"
          ]
        }
      ],
      "source": [
        "!nvidia-smi"
      ]
    },
    {
      "cell_type": "code",
      "execution_count": null,
      "metadata": {
        "colab": {
          "base_uri": "https://localhost:8080/"
        },
        "id": "iXOFare0rHV0",
        "outputId": "790578d3-b956-4dd2-a816-689f36468b36"
      },
      "outputs": [
        {
          "output_type": "stream",
          "name": "stdout",
          "text": [
            "Cloning into 'Stock-Price-Prediction'...\n",
            "remote: Enumerating objects: 166, done.\u001b[K\n",
            "remote: Counting objects: 100% (166/166), done.\u001b[K\n",
            "remote: Compressing objects: 100% (136/136), done.\u001b[K\n",
            "remote: Total 166 (delta 54), reused 76 (delta 18), pack-reused 0\u001b[K\n",
            "Receiving objects: 100% (166/166), 547.06 KiB | 10.32 MiB/s, done.\n",
            "Resolving deltas: 100% (54/54), done.\n"
          ]
        }
      ],
      "source": [
        "!git clone -b do_an_2/viet_buoi https://github.com/Syun1208/Stock-Price-Prediction.git"
      ]
    },
    {
      "cell_type": "markdown",
      "source": [
        "# Set up"
      ],
      "metadata": {
        "id": "FUf2HflP14LX"
      }
    },
    {
      "cell_type": "code",
      "execution_count": null,
      "metadata": {
        "colab": {
          "base_uri": "https://localhost:8080/"
        },
        "id": "lZMTaIPJtguX",
        "outputId": "940dc347-aa8d-4d47-bded-dd026d25d174"
      },
      "outputs": [
        {
          "output_type": "stream",
          "name": "stdout",
          "text": [
            "/usr/local/lib/python3.8/dist-packages/gdown/cli.py:127: FutureWarning: Option `--id` was deprecated in version 4.3.1 and will be removed in 5.0. You don't need to pass it anymore to use a file ID.\n",
            "  warnings.warn(\n",
            "Downloading...\n",
            "From: https://drive.google.com/uc?id=1EowaITo5xCDFig91AHhOO_VrdIdM1gyb\n",
            "To: /content/BTC-USD-test.csv\n",
            "100% 42.6k/42.6k [00:00<00:00, 57.0MB/s]\n",
            "/usr/local/lib/python3.8/dist-packages/gdown/cli.py:127: FutureWarning: Option `--id` was deprecated in version 4.3.1 and will be removed in 5.0. You don't need to pass it anymore to use a file ID.\n",
            "  warnings.warn(\n",
            "Downloading...\n",
            "From: https://drive.google.com/uc?id=1D8jeiXmXr5vP8xC-pfTXvRKlFqvNUQUC\n",
            "To: /content/BTC-USD.csv\n",
            "100% 194k/194k [00:00<00:00, 117MB/s]\n"
          ]
        }
      ],
      "source": [
        "'''\n",
        "Download dữ liệu huấn luyện và kiểm thử từ google drive\n",
        "'''\n",
        "!gdown --id 1EowaITo5xCDFig91AHhOO_VrdIdM1gyb\n",
        "!gdown --id 1D8jeiXmXr5vP8xC-pfTXvRKlFqvNUQUC"
      ]
    },
    {
      "cell_type": "code",
      "execution_count": null,
      "metadata": {
        "id": "wYf6HPNuxhhD"
      },
      "outputs": [],
      "source": [
        "!pip list --format=freeze > /content/Stock-Price-Prediction/requirements.txt"
      ]
    },
    {
      "cell_type": "code",
      "execution_count": null,
      "metadata": {
        "id": "u59EgSc_xb6c"
      },
      "outputs": [],
      "source": [
        "'''\n",
        "Import 1 số thư viện cần thiết\n",
        "'''\n",
        "import numpy as np\n",
        "import pandas as pd\n",
        "import tensorflow as tf\n",
        "import glob\n",
        "import os\n",
        "import csv\n",
        "import argparse\n",
        "import tqdm\n",
        "import matplotlib.pyplot as plt\n",
        "from keras.models import Sequential\n",
        "from keras.layers import Convolution2D, Conv2D\n",
        "from keras.layers import MaxPooling2D\n",
        "from keras.layers import Flatten\n",
        "from keras.layers import Dense\n",
        "import keras.metrics as metrics\n",
        "from keras.layers import AveragePooling2D\n",
        "from keras.preprocessing.image import ImageDataGenerator\n",
        "from keras.layers import BatchNormalization\n",
        "from keras.layers import Dropout\n",
        "from sklearn.metrics import classification_report\n",
        "from keras.optimizers import Adam\n",
        "import numpy as np\n",
        "import tensorflow as tf\n",
        "from keras import regularizers\n",
        "from keras.layers import LeakyReLU\n",
        "from sklearn.preprocessing import MinMaxScaler"
      ]
    },
    {
      "cell_type": "markdown",
      "metadata": {
        "id": "1-bUXcr6r5QZ"
      },
      "source": [
        "# Tiền xử lí dữ liệu"
      ]
    },
    {
      "cell_type": "code",
      "execution_count": null,
      "metadata": {
        "colab": {
          "base_uri": "https://localhost:8080/",
          "height": 424
        },
        "id": "HvUKvkFSES6j",
        "outputId": "39b15e1f-4cac-4d32-c4f7-7a4081e2ff07"
      },
      "outputs": [
        {
          "output_type": "execute_result",
          "data": {
            "text/plain": [
              "           Date          Open          High           Low         Close  \\\n",
              "0      1/1/2015    320.434998    320.434998    314.002991    314.248993   \n",
              "1      1/2/2015    314.079010    315.838989    313.565002    315.032013   \n",
              "2      1/3/2015    314.846008    315.149994    281.082001    281.082001   \n",
              "3      1/4/2015    281.145996    287.230011    257.612000    264.195007   \n",
              "4      1/5/2015    265.084015    278.341003    265.084015    274.473999   \n",
              "...         ...           ...           ...           ...           ...   \n",
              "2453  9/19/2021  48268.855470  48328.367190  46919.804690  47260.218750   \n",
              "2454  9/20/2021  47261.406250  47328.199220  42598.914060  42843.800780   \n",
              "2455  9/21/2021  43012.234380  43607.609380  39787.609380  40693.675780   \n",
              "2456  9/22/2021  40677.953130  43978.621090  40625.632810  43574.507810   \n",
              "2457  9/23/2021  43560.296880  44942.175780  43109.339840  44895.097660   \n",
              "\n",
              "         Adj Close        Volume  \n",
              "0       314.248993  8.036550e+06  \n",
              "1       315.032013  7.860650e+06  \n",
              "2       281.082001  3.305440e+07  \n",
              "3       264.195007  5.562910e+07  \n",
              "4       274.473999  4.396280e+07  \n",
              "...            ...           ...  \n",
              "2453  47260.218750  2.696772e+10  \n",
              "2454  42843.800780  4.390985e+10  \n",
              "2455  40693.675780  4.870109e+10  \n",
              "2456  43574.507810  3.813971e+10  \n",
              "2457  44895.097660  3.424406e+10  \n",
              "\n",
              "[2458 rows x 7 columns]"
            ],
            "text/html": [
              "\n",
              "  <div id=\"df-ca095c57-b87b-4616-b28e-478593610509\">\n",
              "    <div class=\"colab-df-container\">\n",
              "      <div>\n",
              "<style scoped>\n",
              "    .dataframe tbody tr th:only-of-type {\n",
              "        vertical-align: middle;\n",
              "    }\n",
              "\n",
              "    .dataframe tbody tr th {\n",
              "        vertical-align: top;\n",
              "    }\n",
              "\n",
              "    .dataframe thead th {\n",
              "        text-align: right;\n",
              "    }\n",
              "</style>\n",
              "<table border=\"1\" class=\"dataframe\">\n",
              "  <thead>\n",
              "    <tr style=\"text-align: right;\">\n",
              "      <th></th>\n",
              "      <th>Date</th>\n",
              "      <th>Open</th>\n",
              "      <th>High</th>\n",
              "      <th>Low</th>\n",
              "      <th>Close</th>\n",
              "      <th>Adj Close</th>\n",
              "      <th>Volume</th>\n",
              "    </tr>\n",
              "  </thead>\n",
              "  <tbody>\n",
              "    <tr>\n",
              "      <th>0</th>\n",
              "      <td>1/1/2015</td>\n",
              "      <td>320.434998</td>\n",
              "      <td>320.434998</td>\n",
              "      <td>314.002991</td>\n",
              "      <td>314.248993</td>\n",
              "      <td>314.248993</td>\n",
              "      <td>8.036550e+06</td>\n",
              "    </tr>\n",
              "    <tr>\n",
              "      <th>1</th>\n",
              "      <td>1/2/2015</td>\n",
              "      <td>314.079010</td>\n",
              "      <td>315.838989</td>\n",
              "      <td>313.565002</td>\n",
              "      <td>315.032013</td>\n",
              "      <td>315.032013</td>\n",
              "      <td>7.860650e+06</td>\n",
              "    </tr>\n",
              "    <tr>\n",
              "      <th>2</th>\n",
              "      <td>1/3/2015</td>\n",
              "      <td>314.846008</td>\n",
              "      <td>315.149994</td>\n",
              "      <td>281.082001</td>\n",
              "      <td>281.082001</td>\n",
              "      <td>281.082001</td>\n",
              "      <td>3.305440e+07</td>\n",
              "    </tr>\n",
              "    <tr>\n",
              "      <th>3</th>\n",
              "      <td>1/4/2015</td>\n",
              "      <td>281.145996</td>\n",
              "      <td>287.230011</td>\n",
              "      <td>257.612000</td>\n",
              "      <td>264.195007</td>\n",
              "      <td>264.195007</td>\n",
              "      <td>5.562910e+07</td>\n",
              "    </tr>\n",
              "    <tr>\n",
              "      <th>4</th>\n",
              "      <td>1/5/2015</td>\n",
              "      <td>265.084015</td>\n",
              "      <td>278.341003</td>\n",
              "      <td>265.084015</td>\n",
              "      <td>274.473999</td>\n",
              "      <td>274.473999</td>\n",
              "      <td>4.396280e+07</td>\n",
              "    </tr>\n",
              "    <tr>\n",
              "      <th>...</th>\n",
              "      <td>...</td>\n",
              "      <td>...</td>\n",
              "      <td>...</td>\n",
              "      <td>...</td>\n",
              "      <td>...</td>\n",
              "      <td>...</td>\n",
              "      <td>...</td>\n",
              "    </tr>\n",
              "    <tr>\n",
              "      <th>2453</th>\n",
              "      <td>9/19/2021</td>\n",
              "      <td>48268.855470</td>\n",
              "      <td>48328.367190</td>\n",
              "      <td>46919.804690</td>\n",
              "      <td>47260.218750</td>\n",
              "      <td>47260.218750</td>\n",
              "      <td>2.696772e+10</td>\n",
              "    </tr>\n",
              "    <tr>\n",
              "      <th>2454</th>\n",
              "      <td>9/20/2021</td>\n",
              "      <td>47261.406250</td>\n",
              "      <td>47328.199220</td>\n",
              "      <td>42598.914060</td>\n",
              "      <td>42843.800780</td>\n",
              "      <td>42843.800780</td>\n",
              "      <td>4.390985e+10</td>\n",
              "    </tr>\n",
              "    <tr>\n",
              "      <th>2455</th>\n",
              "      <td>9/21/2021</td>\n",
              "      <td>43012.234380</td>\n",
              "      <td>43607.609380</td>\n",
              "      <td>39787.609380</td>\n",
              "      <td>40693.675780</td>\n",
              "      <td>40693.675780</td>\n",
              "      <td>4.870109e+10</td>\n",
              "    </tr>\n",
              "    <tr>\n",
              "      <th>2456</th>\n",
              "      <td>9/22/2021</td>\n",
              "      <td>40677.953130</td>\n",
              "      <td>43978.621090</td>\n",
              "      <td>40625.632810</td>\n",
              "      <td>43574.507810</td>\n",
              "      <td>43574.507810</td>\n",
              "      <td>3.813971e+10</td>\n",
              "    </tr>\n",
              "    <tr>\n",
              "      <th>2457</th>\n",
              "      <td>9/23/2021</td>\n",
              "      <td>43560.296880</td>\n",
              "      <td>44942.175780</td>\n",
              "      <td>43109.339840</td>\n",
              "      <td>44895.097660</td>\n",
              "      <td>44895.097660</td>\n",
              "      <td>3.424406e+10</td>\n",
              "    </tr>\n",
              "  </tbody>\n",
              "</table>\n",
              "<p>2458 rows × 7 columns</p>\n",
              "</div>\n",
              "      <button class=\"colab-df-convert\" onclick=\"convertToInteractive('df-ca095c57-b87b-4616-b28e-478593610509')\"\n",
              "              title=\"Convert this dataframe to an interactive table.\"\n",
              "              style=\"display:none;\">\n",
              "        \n",
              "  <svg xmlns=\"http://www.w3.org/2000/svg\" height=\"24px\"viewBox=\"0 0 24 24\"\n",
              "       width=\"24px\">\n",
              "    <path d=\"M0 0h24v24H0V0z\" fill=\"none\"/>\n",
              "    <path d=\"M18.56 5.44l.94 2.06.94-2.06 2.06-.94-2.06-.94-.94-2.06-.94 2.06-2.06.94zm-11 1L8.5 8.5l.94-2.06 2.06-.94-2.06-.94L8.5 2.5l-.94 2.06-2.06.94zm10 10l.94 2.06.94-2.06 2.06-.94-2.06-.94-.94-2.06-.94 2.06-2.06.94z\"/><path d=\"M17.41 7.96l-1.37-1.37c-.4-.4-.92-.59-1.43-.59-.52 0-1.04.2-1.43.59L10.3 9.45l-7.72 7.72c-.78.78-.78 2.05 0 2.83L4 21.41c.39.39.9.59 1.41.59.51 0 1.02-.2 1.41-.59l7.78-7.78 2.81-2.81c.8-.78.8-2.07 0-2.86zM5.41 20L4 18.59l7.72-7.72 1.47 1.35L5.41 20z\"/>\n",
              "  </svg>\n",
              "      </button>\n",
              "      \n",
              "  <style>\n",
              "    .colab-df-container {\n",
              "      display:flex;\n",
              "      flex-wrap:wrap;\n",
              "      gap: 12px;\n",
              "    }\n",
              "\n",
              "    .colab-df-convert {\n",
              "      background-color: #E8F0FE;\n",
              "      border: none;\n",
              "      border-radius: 50%;\n",
              "      cursor: pointer;\n",
              "      display: none;\n",
              "      fill: #1967D2;\n",
              "      height: 32px;\n",
              "      padding: 0 0 0 0;\n",
              "      width: 32px;\n",
              "    }\n",
              "\n",
              "    .colab-df-convert:hover {\n",
              "      background-color: #E2EBFA;\n",
              "      box-shadow: 0px 1px 2px rgba(60, 64, 67, 0.3), 0px 1px 3px 1px rgba(60, 64, 67, 0.15);\n",
              "      fill: #174EA6;\n",
              "    }\n",
              "\n",
              "    [theme=dark] .colab-df-convert {\n",
              "      background-color: #3B4455;\n",
              "      fill: #D2E3FC;\n",
              "    }\n",
              "\n",
              "    [theme=dark] .colab-df-convert:hover {\n",
              "      background-color: #434B5C;\n",
              "      box-shadow: 0px 1px 3px 1px rgba(0, 0, 0, 0.15);\n",
              "      filter: drop-shadow(0px 1px 2px rgba(0, 0, 0, 0.3));\n",
              "      fill: #FFFFFF;\n",
              "    }\n",
              "  </style>\n",
              "\n",
              "      <script>\n",
              "        const buttonEl =\n",
              "          document.querySelector('#df-ca095c57-b87b-4616-b28e-478593610509 button.colab-df-convert');\n",
              "        buttonEl.style.display =\n",
              "          google.colab.kernel.accessAllowed ? 'block' : 'none';\n",
              "\n",
              "        async function convertToInteractive(key) {\n",
              "          const element = document.querySelector('#df-ca095c57-b87b-4616-b28e-478593610509');\n",
              "          const dataTable =\n",
              "            await google.colab.kernel.invokeFunction('convertToInteractive',\n",
              "                                                     [key], {});\n",
              "          if (!dataTable) return;\n",
              "\n",
              "          const docLinkHtml = 'Like what you see? Visit the ' +\n",
              "            '<a target=\"_blank\" href=https://colab.research.google.com/notebooks/data_table.ipynb>data table notebook</a>'\n",
              "            + ' to learn more about interactive tables.';\n",
              "          element.innerHTML = '';\n",
              "          dataTable['output_type'] = 'display_data';\n",
              "          await google.colab.output.renderOutput(dataTable, element);\n",
              "          const docLink = document.createElement('div');\n",
              "          docLink.innerHTML = docLinkHtml;\n",
              "          element.appendChild(docLink);\n",
              "        }\n",
              "      </script>\n",
              "    </div>\n",
              "  </div>\n",
              "  "
            ]
          },
          "metadata": {},
          "execution_count": 9
        }
      ],
      "source": [
        "# Đọc dữ liệu huấn luyện\n",
        "df = pd.read_csv('/content/BTC-USD.csv')\n",
        "df"
      ]
    },
    {
      "cell_type": "code",
      "execution_count": null,
      "metadata": {
        "colab": {
          "base_uri": "https://localhost:8080/"
        },
        "id": "BCTLH391GKwH",
        "outputId": "d05eb08e-5a51-4b9a-c182-ca791afe0b29"
      },
      "outputs": [
        {
          "output_type": "stream",
          "name": "stdout",
          "text": [
            "Number of trains:  1966\n",
            "Number of validations:  492\n",
            "Total:  2458\n"
          ]
        }
      ],
      "source": [
        "'''\n",
        "Chia tập train và tập validation dựa trên bộ dữ liệu đã đọc ở trên\n",
        "'''\n",
        "# Chia tập train với tỉ lệ là 80%\n",
        "num_train_proportion = 0.8\n",
        "# Lấy kích cỡ dữ liệu đọc được: 2458 rows × 7 columns\n",
        "(num_row, num_column) = df.shape\n",
        "# Lây tỷ lệ chia tập train nhân với số lượng datasets (số hàng)\n",
        "num_train = int(num_train_proportion * df.shape[0])\n",
        "print('Number of trains: ',num_train)\n",
        "# Tính số lượng tập validation\n",
        "num_valid = num_row - num_train\n",
        "print('Number of validations: ', num_valid)\n",
        "print('Total: ', num_train + num_valid)"
      ]
    },
    {
      "cell_type": "code",
      "execution_count": null,
      "metadata": {
        "colab": {
          "base_uri": "https://localhost:8080/"
        },
        "id": "nN0e4uU3IpX_",
        "outputId": "a491820b-385a-453c-a612-1148b6f7ac14"
      },
      "outputs": [
        {
          "output_type": "stream",
          "name": "stdout",
          "text": [
            "Shape of training datasets: (1966, 1)\n",
            "Shape of testing datasetes:  (492, 1)\n"
          ]
        }
      ],
      "source": [
        "# Lấy dữ liệu đã chia theo tỷ lệ ở trên\n",
        "training_set = df.iloc[:num_train, 4:5].values\n",
        "validation_set = df.iloc[num_train:, 4:5].values\n",
        "# Scale dữ liệu về khoảng [-1, 2]\n",
        "sc = MinMaxScaler(feature_range=(-2, 2))\n",
        "training_set_scaled = sc.fit_transform(training_set)\n",
        "validation_set_scaled = sc.fit_transform(validation_set)\n",
        "print('Shape of training datasets:', training_set_scaled.shape)\n",
        "print('Shape of testing datasetes: ', validation_set_scaled.shape)"
      ]
    },
    {
      "cell_type": "code",
      "execution_count": null,
      "metadata": {
        "colab": {
          "base_uri": "https://localhost:8080/"
        },
        "id": "3gIZE3BlJUIM",
        "outputId": "30ede5b2-bc43-4895-9fd0-42d00af215eb"
      },
      "outputs": [
        {
          "output_type": "stream",
          "name": "stdout",
          "text": [
            "Training datasets shape:  (1961, 5, 1) (1961, 1)\n",
            "Validating datasets shape:  (487, 5, 1) (487, 1)\n"
          ]
        }
      ],
      "source": [
        "# nun_steps: số ngõ vào, tức là bao nhiêu ngõ vào sẽ dữ đoán 1 output\n",
        "num_steps = 5\n",
        "'''\n",
        "Chia tập dữ liệu với num_steps:\n",
        "+ X_train: dữ liệu để train\n",
        "+ y_train: dữ liệu kiểm thử X_train\n",
        "+ X_val: dữ liệu để test trong quá trình training\n",
        "+ y_val: dữ liệu kiểm thử X_val\n",
        "'''\n",
        "X_train = []\n",
        "y_train = []\n",
        "X_val = []\n",
        "y_val = []\n",
        "for i in range(num_steps, num_train):\n",
        "    X_train.append(training_set_scaled[i - num_steps:i, 0])\n",
        "    # training_set_scaled[i, 0] = 1\n",
        "    y_train.append(training_set_scaled[i, 0])\n",
        "for j in range(num_steps, num_valid):\n",
        "    X_val.append(validation_set_scaled[j - num_steps:j, 0])\n",
        "    # validation_set_scaled[j, 0] = 1\n",
        "    y_val.append(validation_set_scaled[j, 0])\n",
        "X_train, y_train = np.array(X_train), np.array(y_train).reshape(len(y_train), 1)\n",
        "X_train = np.reshape(X_train, (X_train.shape[0], X_train.shape[1], 1))\n",
        "X_val, y_val = np.array(X_val), np.array(y_val).reshape(len(y_val), 1)\n",
        "X_val = np.reshape(X_val, (X_val.shape[0], X_val.shape[1], 1))\n",
        "'''\n",
        "(1964, 2, 1): \n",
        "+ 1964: số lượng tập train\n",
        "+ 2: số ngõ vào\n",
        "+ 1: số ngõ ra do chỉ dụ đoán Close \n",
        "(490, 2, 1):\n",
        "+ 490: số lượng tập validation\n",
        "+ 2: số ngõ vào\n",
        "+ 1: số ngõ ra do chỉ dụ đoán Close\n",
        "'''\n",
        "print('Training datasets shape: ', X_train.shape, y_train.shape)\n",
        "print('Validating datasets shape: ', X_val.shape, y_val.shape)"
      ]
    },
    {
      "cell_type": "markdown",
      "metadata": {
        "id": "0yf629glMcI2"
      },
      "source": [
        "# Xây dựng mô hình deep learning"
      ]
    },
    {
      "cell_type": "code",
      "execution_count": null,
      "metadata": {
        "id": "rmY2DL7iMLZf"
      },
      "outputs": [],
      "source": [
        "class AttenLayer(tf.keras.layers.Layer):\n",
        "    \"\"\"\n",
        "    Attention Layers used to Compute Weighted Features along Time axis\n",
        "    Args:\n",
        "        num_state :  number of hidden Attention state\n",
        "\n",
        "    edited code provided on https://github.com/ludlows\n",
        "    \"\"\"\n",
        "\n",
        "    def __init__(self, num_state, **kw):\n",
        "        super(AttenLayer, self).__init__(**kw)\n",
        "        self.prob_kernel = None\n",
        "        self.bias = None\n",
        "        self.kernel = None\n",
        "        self.num_state = num_state\n",
        "\n",
        "    def build(self, input_shape):\n",
        "        self.kernel = self.add_weight('kernel', shape=[input_shape[-1], self.num_state])\n",
        "        self.bias = self.add_weight('bias', shape=[self.num_state])\n",
        "        self.prob_kernel = self.add_weight('prob_kernel', shape=[self.num_state])\n",
        "\n",
        "    def call(self, input_tensor, **kwargs):\n",
        "        atten_state = tf.tanh(tf.tensordot(input_tensor, self.kernel, axes=1) + self.bias)\n",
        "        logits = tf.tensordot(atten_state, self.prob_kernel, axes=1)\n",
        "        prob = tf.nn.softmax(logits)\n",
        "        weighted_feature = tf.reduce_sum(tf.multiply(input_tensor, tf.expand_dims(prob, -1)), axis=1)\n",
        "        return weighted_feature\n",
        "\n",
        "    # for saving the model\n",
        "    def get_config(self):\n",
        "        config = super().get_config().copy()\n",
        "        config.update({\n",
        "            'num_state': self.num_state, })\n",
        "        return config\n",
        "def ReshapeLayer(x):\n",
        "    \n",
        "    shape = x.shape\n",
        "    \n",
        "    # 1 possibility: H,W*channel\n",
        "    reshape = tf.keras.layers.Reshape((shape[1],shape[2]*shape[3]))(x)\n",
        "    \n",
        "    # 2 possibility: W,H*channel\n",
        "    # transpose = Permute((2,1,3))(x)\n",
        "    # reshape = Reshape((shape[1],shape[2]*shape[3]))(transpose)\n",
        "    \n",
        "    return reshape\n",
        "\n",
        "# Xây dựng mô hình Bidirectional LSTM + Attention Layer\n",
        "def build_model_BiLSTM(num_input, num_output):\n",
        "  x_in = tf.keras.Input(shape=(num_input, 1))\n",
        "  x_tensor = tf.keras.layers.Bidirectional(tf.keras.layers.LSTM(units=30, return_sequences=True))(x_in)\n",
        "  x_tensor = tf.keras.layers.Dropout(0.5)(x_tensor)\n",
        "  x_tensor = AttenLayer(20)(x_tensor)\n",
        "  x_tensor = tf.keras.layers.Dropout(0.2)(x_tensor)\n",
        "  pred = tf.keras.layers.Dense(num_output, activation='leaky_relu')(x_tensor)\n",
        "  model = tf.keras.Model(inputs=x_in, outputs=pred)\n",
        "  return model\n",
        "#Xây dựng mô hình CNN2D\n",
        "def build_model_CNN2D(shape_input, num_output):\n",
        "  model = Sequential()\n",
        "  model.add(Conv2D(32, 3, 3, input_shape=(shape_input[1], shape_input[-1], 1), padding='same', use_bias=True))\n",
        "  model.add(LeakyReLU(alpha=0.1))\n",
        "  model.add(MaxPooling2D(pool_size=(2, 2), padding='same'))\n",
        "  model.add(Dropout(0.25))\n",
        "  model.add(Conv2D(64, 3, 3, padding='same', use_bias=True))\n",
        "  model.add(LeakyReLU(alpha=0.1))\n",
        "  model.add(MaxPooling2D(pool_size=(2, 2), padding='same'))\n",
        "  model.add(Flatten())\n",
        "  model.add(Dense(128, activation='leaky_relu'))\n",
        "  model.add(Dropout(0.5))\n",
        "  model.add(Dense(64, activation='leaky_relu'))\n",
        "  model.add(Dropout(0.2))\n",
        "  model.add(Dense(num_output, activation='leaky_relu'))\n",
        "  return model\n",
        "# Xây dựng mô hình CNN2D + Bidirectional LSTM\n",
        "def build_model_CNN_BiLSTM(shape_input, num_output):\n",
        "  model = Sequential()\n",
        "  model.add(Conv2D(32, 3, 3, input_shape=(shape_input[1], shape_input[-1], 1), padding='same', use_bias=True))\n",
        "  model.add(LeakyReLU(alpha=0.1))\n",
        "  model.add(MaxPooling2D(pool_size=(2, 2), padding='same'))\n",
        "  model.add(Dropout(0.25))\n",
        "  model.add(Conv2D(64, 3, 3, padding='same', use_bias=True))\n",
        "  model.add(LeakyReLU(alpha=0.1))\n",
        "  model.add(MaxPooling2D(pool_size=(2, 2), padding='same'))\n",
        "  # model.add(tf.keras.layers.Flatten())\n",
        "  # model.add(tf.keras.Input(shape=(shape_input[1], 1)))\n",
        "  model.add(tf.keras.layers.Lambda(ReshapeLayer))\n",
        "  model.add(tf.keras.layers.Bidirectional(tf.keras.layers.LSTM(units=30, return_sequences=True)))\n",
        "  model.add(tf.keras.layers.Dropout(0.5))\n",
        "  model.add(AttenLayer(20))\n",
        "  model.add(tf.keras.layers.Dropout(0.2))\n",
        "  model.add(tf.keras.layers.Dense(num_output, activation='leaky_relu'))\n",
        "  #model.add(tf.keras.Model(inputs=tf.keras.Input(shape=(shape_input[1], 1), outputs=tf.keras.layers.Dense(num_output, activation='leaky_relu'))))\n",
        "  return model"
      ]
    },
    {
      "cell_type": "markdown",
      "metadata": {
        "id": "O69YLUkmOvLw"
      },
      "source": [
        "# Huấn luyện"
      ]
    },
    {
      "cell_type": "markdown",
      "source": [
        "# Model BiLSTM"
      ],
      "metadata": {
        "id": "088Xzde4EqSJ"
      }
    },
    {
      "cell_type": "code",
      "source": [
        "# Huấn luyện mô hình BiLSTM\n",
        "'''\n",
        "Batch size: 64\n",
        "Epochs: 200\n",
        "Loss: Mean square error\n",
        "Learning rate: 0.0001\n",
        "'''\n",
        "\n",
        "modelBiLSTM = build_model_BiLSTM(num_input=5, num_output=1)\n",
        "modelBiLSTM.compile(\n",
        "    optimizer=tf.keras.optimizers.Adam(learning_rate=1e-4),\n",
        "    loss='mse',\n",
        "    metrics=['accuracy'])\n",
        "modelBiLSTM.summary()\n",
        "historyBiLSTM = modelBiLSTM.fit(\n",
        "    X_train,\n",
        "    y_train,\n",
        "    batch_size=64, epochs=300,\n",
        "    validation_data=(X_val, y_val),\n",
        "    callbacks=[\n",
        "        tf.keras.callbacks.ModelCheckpoint('best_attend_BiLSTM.hdf5',\n",
        "                                            monitor='val_accuracy',\n",
        "                                            save_best_only=True,\n",
        "                                            save_weights_only=False,\n",
        "                                            mode='auto')\n",
        "    ])\n",
        "modelBiLSTM.save_weights('best_attend_BiLSTM.hdf5')"
      ],
      "metadata": {
        "id": "o8KwpP4HsEK5"
      },
      "execution_count": null,
      "outputs": []
    },
    {
      "cell_type": "code",
      "source": [
        "accuracy = historyBiLSTM.history['accuracy']\n",
        "val_accuracy = historyBiLSTM.history['val_accuracy']\n",
        "plt.plot(historyBiLSTM.history['accuracy'])\n",
        "plt.plot(historyBiLSTM.history['val_accuracy'])\n",
        "plt.title('model accuracy')\n",
        "plt.ylabel('accuracy')\n",
        "plt.xlabel('epoch')\n",
        "plt.legend(['train', 'val'], loc='upper left')\n",
        "plt.savefig('model_accuracy.png')\n",
        "plt.show()"
      ],
      "metadata": {
        "colab": {
          "base_uri": "https://localhost:8080/",
          "height": 295
        },
        "id": "CjVVk5a2mfGs",
        "outputId": "faa86eb4-5366-4fcd-d908-06a28b35d8e0"
      },
      "execution_count": null,
      "outputs": [
        {
          "output_type": "display_data",
          "data": {
            "text/plain": [
              "<Figure size 432x288 with 1 Axes>"
            ],
            "image/png": "[encoded data removed]"
          },
          "metadata": {
            "needs_background": "light"
          }
        }
      ]
    },
    {
      "cell_type": "code",
      "execution_count": null,
      "metadata": {
        "id": "oeTit93ok6vi",
        "colab": {
          "base_uri": "https://localhost:8080/",
          "height": 295
        },
        "outputId": "559c1d39-05f9-470a-828f-afb01ef5bddd"
      },
      "outputs": [
        {
          "output_type": "display_data",
          "data": {
            "text/plain": [
              "<Figure size 432x288 with 1 Axes>"
            ],
            "image/png": "[encoded data removed]"
          },
          "metadata": {
            "needs_background": "light"
          }
        }
      ],
      "source": [
        "# Vẽ đồ thị so sánh 3 model huấn luyện\n",
        "plt.plot(historyBiLSTM.history['loss'])\n",
        "plt.plot(historyBiLSTM.history['val_loss'])\n",
        "plt.title('model loss')\n",
        "plt.ylabel('loss')\n",
        "plt.xlabel('epoch')\n",
        "plt.legend(['train_BiLSTM', 'val_BiLSTM'], loc='upper left')\n",
        "plt.savefig('/content/model_loss.png')\n",
        "plt.show()"
      ]
    },
    {
      "cell_type": "markdown",
      "source": [
        "# Mô hình CNN2D "
      ],
      "metadata": {
        "id": "mjEVJdwDEyzq"
      }
    },
    {
      "cell_type": "code",
      "source": [
        "# Huấn luyện mô hình CNN2D\n",
        "'''\n",
        "Batch size: 64\n",
        "Epochs: 200\n",
        "Loss: Mean square error\n",
        "Learning rate: 0.0001\n",
        "'''\n",
        "modelCNN2D = build_model_CNN2D(shape_input=X_train.shape, num_output=X_train.shape[-1])\n",
        "modelCNN2D.compile(\n",
        "    optimizer=tf.keras.optimizers.Adam(learning_rate=1e-4),\n",
        "    loss='mse',\n",
        "    metrics=['accuracy'])\n",
        "modelCNN2D.summary()\n",
        "historyCNN2D = modelCNN2D.fit(\n",
        "    tf.expand_dims(X_train, axis=-1),\n",
        "    y_train,\n",
        "    batch_size=64, epochs=300,\n",
        "    validation_data=(X_val, y_val),\n",
        "    callbacks=[\n",
        "        tf.keras.callbacks.ModelCheckpoint('best_attend_CNN2D.hdf5',\n",
        "                                            monitor='val_accuracy',\n",
        "                                            save_best_only=True,\n",
        "                                            save_weights_only=False)\n",
        "    ])\n",
        "modelCNN2D.save_weights('best_attend_CNN2D.hdf5')"
      ],
      "metadata": {
        "id": "L6pN5Zz_DIg3"
      },
      "execution_count": null,
      "outputs": []
    },
    {
      "cell_type": "code",
      "source": [
        "plt.plot(historyCNN2D.history['loss'])\n",
        "plt.plot(historyCNN2D.history['val_loss'])\n",
        "plt.title('model loss')\n",
        "plt.ylabel('loss')\n",
        "plt.xlabel('epoch')\n",
        "plt.legend(['train_CNN2D', 'val_CNN2D'], loc='upper left')\n",
        "plt.savefig('/content/model_loss.png')\n",
        "plt.show()"
      ],
      "metadata": {
        "colab": {
          "base_uri": "https://localhost:8080/",
          "height": 295
        },
        "id": "YbereqzaEPO_",
        "outputId": "c7eaabd3-8e67-4a1a-959c-021dfaf82491"
      },
      "execution_count": null,
      "outputs": [
        {
          "output_type": "display_data",
          "data": {
            "text/plain": [
              "<Figure size 432x288 with 1 Axes>"
            ],
            "image/png": "[encoded data removed]"
          },
          "metadata": {
            "needs_background": "light"
          }
        }
      ]
    },
    {
      "cell_type": "code",
      "source": [
        "accuracy = historyBiLSTM.history['accuracy']\n",
        "val_accuracy = historyBiLSTM.history['val_accuracy']\n",
        "plt.plot(historyBiLSTM.history['accuracy'])\n",
        "plt.plot(historyBiLSTM.history['val_accuracy'])\n",
        "plt.title('model accuracy')\n",
        "plt.ylabel('accuracy')\n",
        "plt.xlabel('epoch')\n",
        "plt.legend(['train', 'val'], loc='upper left')\n",
        "plt.savefig('model_accuracy.png')\n",
        "plt.show()"
      ],
      "metadata": {
        "colab": {
          "base_uri": "https://localhost:8080/",
          "height": 295
        },
        "outputId": "faa86eb4-5366-4fcd-d908-06a28b35d8e0",
        "id": "1ZsU4BeEFBwl"
      },
      "execution_count": null,
      "outputs": [
        {
          "output_type": "display_data",
          "data": {
            "text/plain": [
              "<Figure size 432x288 with 1 Axes>"
            ],
            "image/png": "[encoded data removed]"
          },
          "metadata": {
            "needs_background": "light"
          }
        }
      ]
    },
    {
      "cell_type": "code",
      "source": [],
      "metadata": {
        "id": "i4dtuxeqHQLd"
      },
      "execution_count": null,
      "outputs": []
    },
    {
      "cell_type": "markdown",
      "source": [
        "# CNN2D + BiLSTM"
      ],
      "metadata": {
        "id": "8d6Lc4oYFIhI"
      }
    },
    {
      "cell_type": "code",
      "source": [
        "# Huấn luyện mô hình CNN2D + BiLSTM\n",
        "'''\n",
        "Batch size: 64\n",
        "Epochs: 200\n",
        "Loss: Mean square error\n",
        "Learning rate: 0.0001\n",
        "'''\n",
        "modelCNN_BiLSTM = build_model_CNN_BiLSTM(shape_input=X_train.shape, num_output=X_train.shape[-1])\n",
        "modelCNN_BiLSTM.compile(\n",
        "    optimizer=tf.keras.optimizers.Adam(learning_rate=1e-4),\n",
        "    loss='mse',\n",
        "    metrics=['accuracy'])\n",
        "modelCNN_BiLSTM.summary()\n",
        "historyCNN_BiLSTM = modelCNN_BiLSTM.fit(\n",
        "    tf.expand_dims(X_train, axis=-1),\n",
        "    y_train,\n",
        "    batch_size=64, epochs=300,\n",
        "    validation_data=(X_val, y_val),\n",
        "    callbacks=[\n",
        "        tf.keras.callbacks.ModelCheckpoint('best_attend_CNN_BiLSTM.hdf5',\n",
        "                                            monitor='val_accuracy',\n",
        "                                            save_best_only=True,\n",
        "                                            save_weights_only=False)\n",
        "    ])\n",
        "modelCNN_BiLSTM.save_weights('best_attend_CNN_BiLSTM.hdf5')"
      ],
      "metadata": {
        "id": "IGrtPeThBJcX"
      },
      "execution_count": null,
      "outputs": []
    },
    {
      "cell_type": "code",
      "source": [
        "accuracy = historyCNN_BiLSTM.history['accuracy']\n",
        "val_accuracy = historyCNN_BiLSTM.history['val_accuracy']\n",
        "plt.plot(historyCNN_BiLSTM.history['accuracy'])\n",
        "plt.plot(historyCNN_BiLSTM.history['val_accuracy'])\n",
        "plt.title('model accuracy')\n",
        "plt.ylabel('accuracy')\n",
        "plt.xlabel('epoch')\n",
        "plt.legend(['train', 'val'], loc='upper left')\n",
        "plt.savefig('model_accuracy.png')\n",
        "plt.show()"
      ],
      "metadata": {
        "colab": {
          "base_uri": "https://localhost:8080/",
          "height": 295
        },
        "outputId": "faa86eb4-5366-4fcd-d908-06a28b35d8e0",
        "id": "XJ4JJrXZzJC_"
      },
      "execution_count": null,
      "outputs": [
        {
          "output_type": "display_data",
          "data": {
            "text/plain": [
              "<Figure size 432x288 with 1 Axes>"
            ],
            "image/png": "[encoded data removed]"
          },
          "metadata": {
            "needs_background": "light"
          }
        }
      ]
    },
    {
      "cell_type": "code",
      "source": [
        "plt.plot(historyCNN_BiLSTM.history['loss'])\n",
        "plt.plot(historyCNN_BiLSTM.history['val_loss'])\n",
        "plt.title('model loss')\n",
        "plt.ylabel('loss')\n",
        "plt.xlabel('epoch')\n",
        "plt.legend(['train_CNN_BiLSTM', 'val_CNN_BiLSTM'], loc='upper left')\n",
        "plt.savefig('/content/model_loss.png')\n",
        "plt.show()"
      ],
      "metadata": {
        "colab": {
          "base_uri": "https://localhost:8080/",
          "height": 295
        },
        "id": "P02uzfWEzN8G",
        "outputId": "4dfe4aec-683e-4b84-abc5-1014d8da7c87"
      },
      "execution_count": null,
      "outputs": [
        {
          "output_type": "display_data",
          "data": {
            "text/plain": [
              "<Figure size 432x288 with 1 Axes>"
            ],
            "image/png": "[encoded data removed]"
          },
          "metadata": {
            "needs_background": "light"
          }
        }
      ]
    },
    {
      "cell_type": "markdown",
      "metadata": {
        "id": "vqvxghdePfMH"
      },
      "source": [
        "# Load model đã huấn luyện và kiểm thử bằng tập test"
      ]
    },
    {
      "cell_type": "code",
      "execution_count": null,
      "metadata": {
        "colab": {
          "base_uri": "https://localhost:8080/",
          "height": 424
        },
        "id": "MlWd0ht5QNCN",
        "outputId": "3388ea1a-1861-4171-d9ab-6a8dd4b96d64"
      },
      "outputs": [
        {
          "output_type": "execute_result",
          "data": {
            "text/plain": [
              "           Date          Open          High           Low         Close  \\\n",
              "0    2020-05-25   8786.107422   8951.005859   8719.667969   8906.934570   \n",
              "1    2020-05-26   8909.585938   8991.967773   8757.293945   8835.052734   \n",
              "2    2020-05-27   8837.380859   9203.320313   8834.157227   9181.017578   \n",
              "3    2020-05-28   9184.945313   9546.319336   9148.457031   9525.750977   \n",
              "4    2020-05-29   9528.355469   9573.666992   9379.338867   9439.124023   \n",
              "..          ...           ...           ...           ...           ...   \n",
              "482  2021-09-19  48268.855469  48328.367188  46919.804688  47260.218750   \n",
              "483  2021-09-20  47261.406250  47328.199219  42598.914063  42843.800781   \n",
              "484  2021-09-21  43012.234375  43607.609375  39787.609375  40693.675781   \n",
              "485  2021-09-22  40677.953125  43978.621094  40625.632813  43574.507813   \n",
              "486  2021-09-23  43560.296875  44942.175781  43109.339844  44895.097656   \n",
              "\n",
              "        Adj Close       Volume  \n",
              "0     8906.934570  31288157264  \n",
              "1     8835.052734  29584186947  \n",
              "2     9181.017578  32740536902  \n",
              "3     9525.750977  34367073114  \n",
              "4     9439.124023  32896642044  \n",
              "..            ...          ...  \n",
              "482  47260.218750  26967722648  \n",
              "483  42843.800781  43909845642  \n",
              "484  40693.675781  48701090088  \n",
              "485  43574.507813  38139709246  \n",
              "486  44895.097656  34244064430  \n",
              "\n",
              "[487 rows x 7 columns]"
            ],
            "text/html": [
              "\n",
              "  <div id=\"df-08a40630-6cb1-4247-acc0-fa96eaa4280e\">\n",
              "    <div class=\"colab-df-container\">\n",
              "      <div>\n",
              "<style scoped>\n",
              "    .dataframe tbody tr th:only-of-type {\n",
              "        vertical-align: middle;\n",
              "    }\n",
              "\n",
              "    .dataframe tbody tr th {\n",
              "        vertical-align: top;\n",
              "    }\n",
              "\n",
              "    .dataframe thead th {\n",
              "        text-align: right;\n",
              "    }\n",
              "</style>\n",
              "<table border=\"1\" class=\"dataframe\">\n",
              "  <thead>\n",
              "    <tr style=\"text-align: right;\">\n",
              "      <th></th>\n",
              "      <th>Date</th>\n",
              "      <th>Open</th>\n",
              "      <th>High</th>\n",
              "      <th>Low</th>\n",
              "      <th>Close</th>\n",
              "      <th>Adj Close</th>\n",
              "      <th>Volume</th>\n",
              "    </tr>\n",
              "  </thead>\n",
              "  <tbody>\n",
              "    <tr>\n",
              "      <th>0</th>\n",
              "      <td>2020-05-25</td>\n",
              "      <td>8786.107422</td>\n",
              "      <td>8951.005859</td>\n",
              "      <td>8719.667969</td>\n",
              "      <td>8906.934570</td>\n",
              "      <td>8906.934570</td>\n",
              "      <td>31288157264</td>\n",
              "    </tr>\n",
              "    <tr>\n",
              "      <th>1</th>\n",
              "      <td>2020-05-26</td>\n",
              "      <td>8909.585938</td>\n",
              "      <td>8991.967773</td>\n",
              "      <td>8757.293945</td>\n",
              "      <td>8835.052734</td>\n",
              "      <td>8835.052734</td>\n",
              "      <td>29584186947</td>\n",
              "    </tr>\n",
              "    <tr>\n",
              "      <th>2</th>\n",
              "      <td>2020-05-27</td>\n",
              "      <td>8837.380859</td>\n",
              "      <td>9203.320313</td>\n",
              "      <td>8834.157227</td>\n",
              "      <td>9181.017578</td>\n",
              "      <td>9181.017578</td>\n",
              "      <td>32740536902</td>\n",
              "    </tr>\n",
              "    <tr>\n",
              "      <th>3</th>\n",
              "      <td>2020-05-28</td>\n",
              "      <td>9184.945313</td>\n",
              "      <td>9546.319336</td>\n",
              "      <td>9148.457031</td>\n",
              "      <td>9525.750977</td>\n",
              "      <td>9525.750977</td>\n",
              "      <td>34367073114</td>\n",
              "    </tr>\n",
              "    <tr>\n",
              "      <th>4</th>\n",
              "      <td>2020-05-29</td>\n",
              "      <td>9528.355469</td>\n",
              "      <td>9573.666992</td>\n",
              "      <td>9379.338867</td>\n",
              "      <td>9439.124023</td>\n",
              "      <td>9439.124023</td>\n",
              "      <td>32896642044</td>\n",
              "    </tr>\n",
              "    <tr>\n",
              "      <th>...</th>\n",
              "      <td>...</td>\n",
              "      <td>...</td>\n",
              "      <td>...</td>\n",
              "      <td>...</td>\n",
              "      <td>...</td>\n",
              "      <td>...</td>\n",
              "      <td>...</td>\n",
              "    </tr>\n",
              "    <tr>\n",
              "      <th>482</th>\n",
              "      <td>2021-09-19</td>\n",
              "      <td>48268.855469</td>\n",
              "      <td>48328.367188</td>\n",
              "      <td>46919.804688</td>\n",
              "      <td>47260.218750</td>\n",
              "      <td>47260.218750</td>\n",
              "      <td>26967722648</td>\n",
              "    </tr>\n",
              "    <tr>\n",
              "      <th>483</th>\n",
              "      <td>2021-09-20</td>\n",
              "      <td>47261.406250</td>\n",
              "      <td>47328.199219</td>\n",
              "      <td>42598.914063</td>\n",
              "      <td>42843.800781</td>\n",
              "      <td>42843.800781</td>\n",
              "      <td>43909845642</td>\n",
              "    </tr>\n",
              "    <tr>\n",
              "      <th>484</th>\n",
              "      <td>2021-09-21</td>\n",
              "      <td>43012.234375</td>\n",
              "      <td>43607.609375</td>\n",
              "      <td>39787.609375</td>\n",
              "      <td>40693.675781</td>\n",
              "      <td>40693.675781</td>\n",
              "      <td>48701090088</td>\n",
              "    </tr>\n",
              "    <tr>\n",
              "      <th>485</th>\n",
              "      <td>2021-09-22</td>\n",
              "      <td>40677.953125</td>\n",
              "      <td>43978.621094</td>\n",
              "      <td>40625.632813</td>\n",
              "      <td>43574.507813</td>\n",
              "      <td>43574.507813</td>\n",
              "      <td>38139709246</td>\n",
              "    </tr>\n",
              "    <tr>\n",
              "      <th>486</th>\n",
              "      <td>2021-09-23</td>\n",
              "      <td>43560.296875</td>\n",
              "      <td>44942.175781</td>\n",
              "      <td>43109.339844</td>\n",
              "      <td>44895.097656</td>\n",
              "      <td>44895.097656</td>\n",
              "      <td>34244064430</td>\n",
              "    </tr>\n",
              "  </tbody>\n",
              "</table>\n",
              "<p>487 rows × 7 columns</p>\n",
              "</div>\n",
              "      <button class=\"colab-df-convert\" onclick=\"convertToInteractive('df-08a40630-6cb1-4247-acc0-fa96eaa4280e')\"\n",
              "              title=\"Convert this dataframe to an interactive table.\"\n",
              "              style=\"display:none;\">\n",
              "        \n",
              "  <svg xmlns=\"http://www.w3.org/2000/svg\" height=\"24px\"viewBox=\"0 0 24 24\"\n",
              "       width=\"24px\">\n",
              "    <path d=\"M0 0h24v24H0V0z\" fill=\"none\"/>\n",
              "    <path d=\"M18.56 5.44l.94 2.06.94-2.06 2.06-.94-2.06-.94-.94-2.06-.94 2.06-2.06.94zm-11 1L8.5 8.5l.94-2.06 2.06-.94-2.06-.94L8.5 2.5l-.94 2.06-2.06.94zm10 10l.94 2.06.94-2.06 2.06-.94-2.06-.94-.94-2.06-.94 2.06-2.06.94z\"/><path d=\"M17.41 7.96l-1.37-1.37c-.4-.4-.92-.59-1.43-.59-.52 0-1.04.2-1.43.59L10.3 9.45l-7.72 7.72c-.78.78-.78 2.05 0 2.83L4 21.41c.39.39.9.59 1.41.59.51 0 1.02-.2 1.41-.59l7.78-7.78 2.81-2.81c.8-.78.8-2.07 0-2.86zM5.41 20L4 18.59l7.72-7.72 1.47 1.35L5.41 20z\"/>\n",
              "  </svg>\n",
              "      </button>\n",
              "      \n",
              "  <style>\n",
              "    .colab-df-container {\n",
              "      display:flex;\n",
              "      flex-wrap:wrap;\n",
              "      gap: 12px;\n",
              "    }\n",
              "\n",
              "    .colab-df-convert {\n",
              "      background-color: #E8F0FE;\n",
              "      border: none;\n",
              "      border-radius: 50%;\n",
              "      cursor: pointer;\n",
              "      display: none;\n",
              "      fill: #1967D2;\n",
              "      height: 32px;\n",
              "      padding: 0 0 0 0;\n",
              "      width: 32px;\n",
              "    }\n",
              "\n",
              "    .colab-df-convert:hover {\n",
              "      background-color: #E2EBFA;\n",
              "      box-shadow: 0px 1px 2px rgba(60, 64, 67, 0.3), 0px 1px 3px 1px rgba(60, 64, 67, 0.15);\n",
              "      fill: #174EA6;\n",
              "    }\n",
              "\n",
              "    [theme=dark] .colab-df-convert {\n",
              "      background-color: #3B4455;\n",
              "      fill: #D2E3FC;\n",
              "    }\n",
              "\n",
              "    [theme=dark] .colab-df-convert:hover {\n",
              "      background-color: #434B5C;\n",
              "      box-shadow: 0px 1px 3px 1px rgba(0, 0, 0, 0.15);\n",
              "      filter: drop-shadow(0px 1px 2px rgba(0, 0, 0, 0.3));\n",
              "      fill: #FFFFFF;\n",
              "    }\n",
              "  </style>\n",
              "\n",
              "      <script>\n",
              "        const buttonEl =\n",
              "          document.querySelector('#df-08a40630-6cb1-4247-acc0-fa96eaa4280e button.colab-df-convert');\n",
              "        buttonEl.style.display =\n",
              "          google.colab.kernel.accessAllowed ? 'block' : 'none';\n",
              "\n",
              "        async function convertToInteractive(key) {\n",
              "          const element = document.querySelector('#df-08a40630-6cb1-4247-acc0-fa96eaa4280e');\n",
              "          const dataTable =\n",
              "            await google.colab.kernel.invokeFunction('convertToInteractive',\n",
              "                                                     [key], {});\n",
              "          if (!dataTable) return;\n",
              "\n",
              "          const docLinkHtml = 'Like what you see? Visit the ' +\n",
              "            '<a target=\"_blank\" href=https://colab.research.google.com/notebooks/data_table.ipynb>data table notebook</a>'\n",
              "            + ' to learn more about interactive tables.';\n",
              "          element.innerHTML = '';\n",
              "          dataTable['output_type'] = 'display_data';\n",
              "          await google.colab.output.renderOutput(dataTable, element);\n",
              "          const docLink = document.createElement('div');\n",
              "          docLink.innerHTML = docLinkHtml;\n",
              "          element.appendChild(docLink);\n",
              "        }\n",
              "      </script>\n",
              "    </div>\n",
              "  </div>\n",
              "  "
            ]
          },
          "metadata": {},
          "execution_count": 24
        }
      ],
      "source": [
        "# Đọc dữ liệu tập test\n",
        "df_test = pd.read_csv('/content/BTC-USD-test.csv')\n",
        "df_test"
      ]
    },
    {
      "cell_type": "code",
      "execution_count": null,
      "metadata": {
        "colab": {
          "base_uri": "https://localhost:8080/"
        },
        "id": "5jJx6stmPXYS",
        "outputId": "a43f7ec6-d221-4627-9027-6412eea8c4b1"
      },
      "outputs": [
        {
          "output_type": "stream",
          "name": "stdout",
          "text": [
            "Testing shape:  (482, 5, 1)\n"
          ]
        }
      ],
      "source": [
        "# Lấy giá trị cột CLose\n",
        "testing_set = df_test.filter(['Close']).values\n",
        "testing_set = testing_set.reshape(-1,1)\n",
        "sc = MinMaxScaler(feature_range=(-2, 2))\n",
        "testing_set = sc.fit_transform(testing_set)\n",
        "X_test = []\n",
        "for i in range(num_steps, testing_set.shape[0]):\n",
        "    X_test.append(testing_set[i - num_steps:i, :])\n",
        "X_test = np.array(X_test)\n",
        "X_test = np.reshape(X_test, (X_test.shape[0], X_test.shape[1], 1))\n",
        "'''\n",
        "(485, 2, 1):\n",
        "+ 485: số lượng dữ liệu tập test\n",
        "+ 2: số ngõ vào\n",
        "+ 1: số ngõ ra\n",
        "'''\n",
        "print('Testing shape: ', X_test.shape)"
      ]
    },
    {
      "cell_type": "markdown",
      "source": [
        "# Model BiLSTM"
      ],
      "metadata": {
        "id": "UTPwnhwAGtWN"
      }
    },
    {
      "cell_type": "code",
      "execution_count": null,
      "metadata": {
        "colab": {
          "base_uri": "https://localhost:8080/"
        },
        "id": "Hykd81EqSfLY",
        "outputId": "0368d47f-3f94-4b82-c653-7427523cc96c"
      },
      "outputs": [
        {
          "output_type": "stream",
          "name": "stdout",
          "text": [
            "16/16 [==============================] - 1s 7ms/step\n"
          ]
        }
      ],
      "source": [
        "# File trọng số BiLSTM sau khi huấn luyện\n",
        "hdf5path_BiLSTM = 'best_attend_BiLSTM.hdf5'\n",
        "# Load model BiLSTM sau khi huấn luyện\n",
        "modelBiLSTM.load_weights(hdf5path_BiLSTM)\n",
        "y_test_BiLSTM = modelBiLSTM.predict(X_test)"
      ]
    },
    {
      "cell_type": "code",
      "source": [
        "import shutil\n",
        "if os.path.exists('/content/drive/MyDrive/Colab_Notebooks/' + hdf5path_BiLSTM):\n",
        "  os.remove('/content/drive/MyDrive/Colab_Notebooks/' + hdf5path_BiLSTM)\n",
        "shutil.move(hdf5path_BiLSTM, '/content/drive/MyDrive/Colab_Notebooks')"
      ],
      "metadata": {
        "colab": {
          "base_uri": "https://localhost:8080/",
          "height": 36
        },
        "id": "Uh6QL4CXhFNl",
        "outputId": "9b654475-15ad-41e7-e2bf-122d079907ff"
      },
      "execution_count": null,
      "outputs": [
        {
          "output_type": "execute_result",
          "data": {
            "text/plain": [
              "'/content/drive/MyDrive/Colab_Notebooks/best_attend_BiLSTM.hdf5'"
            ],
            "application/vnd.google.colaboratory.intrinsic+json": {
              "type": "string"
            }
          },
          "metadata": {},
          "execution_count": 53
        }
      ]
    },
    {
      "cell_type": "code",
      "execution_count": null,
      "metadata": {
        "colab": {
          "base_uri": "https://localhost:8080/",
          "height": 295
        },
        "id": "yu_ChY7ZTAl7",
        "outputId": "8f8cf25a-02ef-4fda-8953-0f8d2c3710d3"
      },
      "outputs": [
        {
          "output_type": "display_data",
          "data": {
            "text/plain": [
              "<Figure size 432x288 with 1 Axes>"
            ],
            "image/png": "[encoded data removed]"
          },
          "metadata": {
            "needs_background": "light"
          }
        }
      ],
      "source": [
        "plt.plot(testing_set, 'b-', label='Real Stock Price Close')\n",
        "# plt.plot(y_test_CNN, 'r-', label='Predicted Stock Price based on CNN')\n",
        "plt.plot(y_test_BiLSTM, 'r-', label='Predicted Stock Price based on BiLSTM')\n",
        "# plt.plot(y_test_BiLSTM_CNN, 'r-', label='Predicted Stock Price base on combination between CNN and BiLSTM')\n",
        "plt.title('BiLSTM Prediction')\n",
        "plt.savefig('model_prediction.png')\n",
        "plt.xlabel('Time')\n",
        "plt.ylabel('Price')\n",
        "plt.legend(loc='best')\n",
        "plt.show()"
      ]
    },
    {
      "cell_type": "markdown",
      "source": [
        "# Model CNN2D + BiLSTM"
      ],
      "metadata": {
        "id": "0AAkP4fEGwwP"
      }
    },
    {
      "cell_type": "code",
      "source": [
        "# File trọng số CNN2D + BiLSTM sau khi huấn luyện\n",
        "hdf5path_CNN_BiLSTM = 'best_attend_CNN_BiLSTM.hdf5'\n",
        "# Load model CNN2D + BiLSTM sau khi huấn luyện\n",
        "modelCNN_BiLSTM.load_weights(hdf5path_CNN_BiLSTM)\n",
        "y_test_CNN_BiLSTM = modelCNN_BiLSTM.predict(X_test)"
      ],
      "metadata": {
        "colab": {
          "base_uri": "https://localhost:8080/"
        },
        "id": "IAfHOQ8T0P8h",
        "outputId": "688fa864-8a61-445f-d5f6-dabb69bb01bc"
      },
      "execution_count": null,
      "outputs": [
        {
          "output_type": "stream",
          "name": "stdout",
          "text": [
            "16/16 [==============================] - 1s 5ms/step\n"
          ]
        }
      ]
    },
    {
      "cell_type": "code",
      "source": [
        "import shutil\n",
        "if os.path.exists('/content/drive/MyDrive/Colab_Notebooks/' + hdf5path_CNN_BiLSTM):\n",
        "  os.remove('/content/drive/MyDrive/Colab_Notebooks/' + hdf5path_CNN_BiLSTM)\n",
        "shutil.move(hdf5path_CNN_BiLSTM, '/content/drive/MyDrive/Colab_Notebooks')"
      ],
      "metadata": {
        "colab": {
          "base_uri": "https://localhost:8080/",
          "height": 36
        },
        "id": "4pt_C9gd2VlO",
        "outputId": "d9af32c2-56f5-47ae-c911-bf13097c3b48"
      },
      "execution_count": null,
      "outputs": [
        {
          "output_type": "execute_result",
          "data": {
            "text/plain": [
              "'/content/drive/MyDrive/Colab_Notebooks/best_attend_CNN_BiLSTM.hdf5'"
            ],
            "application/vnd.google.colaboratory.intrinsic+json": {
              "type": "string"
            }
          },
          "metadata": {},
          "execution_count": 27
        }
      ]
    },
    {
      "cell_type": "code",
      "source": [
        "plt.plot(testing_set, 'b-', label='Real Stock Price Close')\n",
        "# plt.plot(y_test_CNN, 'r-', label='Predicted Stock Price based on CNN')\n",
        "plt.plot(y_test_CNN_BiLSTM, 'r-', label='Predicted Stock Price based on BiLSTM')\n",
        "# plt.plot(y_test_BiLSTM_CNN, 'r-', label='Predicted Stock Price base on combination between CNN and BiLSTM')\n",
        "plt.title('CNN2D + LSTM Prediction')\n",
        "plt.savefig('model_prediction.png')\n",
        "plt.xlabel('Time')\n",
        "plt.ylabel('Price')\n",
        "plt.legend(loc='upper left')\n",
        "plt.show()"
      ],
      "metadata": {
        "colab": {
          "base_uri": "https://localhost:8080/",
          "height": 295
        },
        "id": "9VT4estx0f_o",
        "outputId": "f371bbcd-68f2-4a48-92f6-0f16a8db34ce"
      },
      "execution_count": null,
      "outputs": [
        {
          "output_type": "display_data",
          "data": {
            "text/plain": [
              "<Figure size 432x288 with 1 Axes>"
            ],
            "image/png": "[encoded data removed]"
          },
          "metadata": {
            "needs_background": "light"
          }
        }
      ]
    },
    {
      "cell_type": "markdown",
      "source": [
        "# Model CNN2D"
      ],
      "metadata": {
        "id": "5uqS12QFGz0R"
      }
    },
    {
      "cell_type": "code",
      "source": [
        "# File trọng số CNN2D sau khi huấn luyện\n",
        "hdf5path_CNN2D= 'best_attend_CNN2D.hdf5'\n",
        "# Load model CNN2D sau khi huấn luyện\n",
        "modelCNN2D.load_weights(hdf5path_CNN2D)\n",
        "y_test_CNN2D = modelCNN2D.predict(X_test)"
      ],
      "metadata": {
        "colab": {
          "base_uri": "https://localhost:8080/"
        },
        "id": "ab2sMY0uFPE2",
        "outputId": "d60f35e4-9818-4d20-cc41-f41c7071a09a"
      },
      "execution_count": null,
      "outputs": [
        {
          "output_type": "stream",
          "name": "stdout",
          "text": [
            "16/16 [==============================] - 0s 3ms/step\n"
          ]
        }
      ]
    },
    {
      "cell_type": "code",
      "source": [
        "import shutil\n",
        "if os.path.exists('/content/drive/MyDrive/Colab_Notebooks/' + hdf5path_CNN2D):\n",
        "  os.remove('/content/drive/MyDrive/Colab_Notebooks/' + hdf5path_CNN2D)\n",
        "shutil.move(hdf5path_CNN2D, '/content/drive/MyDrive/Colab_Notebooks')"
      ],
      "metadata": {
        "colab": {
          "base_uri": "https://localhost:8080/",
          "height": 36
        },
        "id": "mhy1Dn-sFks2",
        "outputId": "a784b969-1b82-4d15-b0c3-791589d672fb"
      },
      "execution_count": null,
      "outputs": [
        {
          "output_type": "execute_result",
          "data": {
            "text/plain": [
              "'/content/drive/MyDrive/Colab_Notebooks/best_attend_CNN2D.hdf5'"
            ],
            "application/vnd.google.colaboratory.intrinsic+json": {
              "type": "string"
            }
          },
          "metadata": {},
          "execution_count": 45
        }
      ]
    },
    {
      "cell_type": "code",
      "source": [
        "plt.plot(testing_set, 'b-', label='Real Stock Price Close')\n",
        "# plt.plot(y_test_CNN, 'r-', label='Predicted Stock Price based on CNN')\n",
        "plt.plot(y_test_CNN2D, 'r-', label='Predicted Stock Price based on BiLSTM')\n",
        "# plt.plot(y_test_BiLSTM_CNN, 'r-', label='Predicted Stock Price base on combination between CNN and BiLSTM')\n",
        "plt.title('CNN2D Prediction')\n",
        "plt.savefig('model_prediction.png')\n",
        "plt.xlabel('Time')\n",
        "plt.ylabel('Price')\n",
        "plt.legend(loc='upper left')\n",
        "plt.show()"
      ],
      "metadata": {
        "colab": {
          "base_uri": "https://localhost:8080/",
          "height": 295
        },
        "id": "nKb-Pb8BFnpd",
        "outputId": "60b38f0f-1eb1-4f83-ae77-32039cd0b9f9"
      },
      "execution_count": null,
      "outputs": [
        {
          "output_type": "display_data",
          "data": {
            "text/plain": [
              "<Figure size 432x288 with 1 Axes>"
            ],
            "image/png": "[encoded data removed]"
          },
          "metadata": {
            "needs_background": "light"
          }
        }
      ]
    },
    {
      "cell_type": "markdown",
      "source": [
        "# Tính RMSE, MSE, MAE VÀ R2-SCORE"
      ],
      "metadata": {
        "id": "VJoGSWhtiT9q"
      }
    },
    {
      "cell_type": "code",
      "source": [
        "# Model BiLSTM\n",
        "import sklearn.metrics as metrics\n",
        "\n",
        "testing_set = np.asarray(testing_set[:482])\n",
        "y_test_BiLSTM = np.asarray(y_test_BiLSTM)\n",
        "\n",
        "mae = metrics.mean_absolute_error(y_test_BiLSTM.reshape(-1,1), testing_set)\n",
        "mse = metrics.mean_squared_error(y_test_BiLSTM.reshape(-1,1), testing_set)\n",
        "rmse = np.sqrt(mse)\n",
        "r2 = metrics.r2_score(y_test_BiLSTM.reshape(-1,1),testing_set)\n",
        "\n",
        "print(\"MAE:\",mae)\n",
        "print(\"MSE:\", mse)\n",
        "print(\"RMSE:\", rmse)\n",
        "print(\"R-Squared:\", r2)"
      ],
      "metadata": {
        "colab": {
          "base_uri": "https://localhost:8080/"
        },
        "id": "cteMSLnZipR_",
        "outputId": "181e0b00-9a57-4876-c063-abe505a60e1d"
      },
      "execution_count": null,
      "outputs": [
        {
          "output_type": "stream",
          "name": "stdout",
          "text": [
            "MAE: 0.12315954001353377\n",
            "MSE: 0.027457008632092342\n",
            "RMSE: 0.1657015649657309\n",
            "R-Squared: 0.9819659509706127\n"
          ]
        }
      ]
    },
    {
      "cell_type": "code",
      "source": [
        "# Model CNN2D + BiLSTM\n",
        "import sklearn.metrics as metrics\n",
        "\n",
        "testing_set = np.asarray(testing_set[:482])\n",
        "y_test_CNN_BiLSTM = np.asarray(y_test_CNN_BiLSTM)\n",
        "\n",
        "mae = metrics.mean_absolute_error(y_test_CNN_BiLSTM.reshape(-1,1), testing_set)\n",
        "mse = metrics.mean_squared_error(y_test_CNN_BiLSTM.reshape(-1,1), testing_set)\n",
        "rmse = np.sqrt(mse)\n",
        "r2 = metrics.r2_score(y_test_CNN_BiLSTM.reshape(-1,1),testing_set)\n",
        "\n",
        "print(\"MAE:\",mae)\n",
        "print(\"MSE:\", mse)\n",
        "print(\"RMSE:\", rmse)\n",
        "print(\"R-Squared:\", r2)"
      ],
      "metadata": {
        "colab": {
          "base_uri": "https://localhost:8080/"
        },
        "id": "a8Cn60Eo1WeD",
        "outputId": "51dda441-b727-4162-f3b2-52814c21e7ce"
      },
      "execution_count": null,
      "outputs": [
        {
          "output_type": "stream",
          "name": "stdout",
          "text": [
            "MAE: 0.1201211104421773\n",
            "MSE: 0.02836242632983559\n",
            "RMSE: 0.16841147921040178\n",
            "R-Squared: 0.9804064252159527\n"
          ]
        }
      ]
    },
    {
      "cell_type": "code",
      "source": [
        "# Model CNN2D\n",
        "import sklearn.metrics as metrics\n",
        "\n",
        "testing_set = np.asarray(testing_set[:482])\n",
        "y_test_CNN2D = np.asarray(y_test_CNN2D)\n",
        "\n",
        "mae = metrics.mean_absolute_error(y_test_CNN2D.reshape(-1,1), testing_set)\n",
        "mse = metrics.mean_squared_error(y_test_CNN2D.reshape(-1,1), testing_set)\n",
        "rmse = np.sqrt(mse)\n",
        "r2 = metrics.r2_score(y_test_CNN2D.reshape(-1,1),testing_set)\n",
        "\n",
        "print(\"MAE:\",mae)\n",
        "print(\"MSE:\", mse)\n",
        "print(\"RMSE:\", rmse)\n",
        "print(\"R-Squared:\", r2)"
      ],
      "metadata": {
        "colab": {
          "base_uri": "https://localhost:8080/"
        },
        "id": "PajErcOuFrrc",
        "outputId": "f985d45a-6614-46a7-ab43-67f5faad9121"
      },
      "execution_count": null,
      "outputs": [
        {
          "output_type": "stream",
          "name": "stdout",
          "text": [
            "MAE: 0.18378829011715092\n",
            "MSE: 0.06284281816973358\n",
            "RMSE: 0.25068469871480703\n",
            "R-Squared: 0.9474461014628257\n"
          ]
        }
      ]
    }
  ],
  "metadata": {
    "accelerator": "GPU",
    "colab": {
      "provenance": [],
      "collapsed_sections": [
        "1-bUXcr6r5QZ",
        "0yf629glMcI2",
        "088Xzde4EqSJ",
        "mjEVJdwDEyzq",
        "8d6Lc4oYFIhI",
        "vqvxghdePfMH",
        "UTPwnhwAGtWN",
        "0AAkP4fEGwwP",
        "5uqS12QFGz0R",
        "VJoGSWhtiT9q"
      ]
    },
    "gpuClass": "standard",
    "kernelspec": {
      "display_name": "Python 3",
      "name": "python3"
    },
    "language_info": {
      "name": "python"
    }
  },
  "nbformat": 4,
  "nbformat_minor": 0
}