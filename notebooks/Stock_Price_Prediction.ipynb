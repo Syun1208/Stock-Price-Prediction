{
  "cells": [
    {
      "cell_type": "code",
      "execution_count": null,
      "metadata": {
        "colab": {
          "base_uri": "https://localhost:8080/"
        },
        "id": "nMRLQTtxB7Bc",
        "outputId": "cf927aa9-dfa8-4016-e2c1-bc38610ebea6"
      },
      "outputs": [
        {
          "output_type": "stream",
          "name": "stdout",
          "text": [
            "Wed Jul 20 02:28:06 2022       \n",
            "+-----------------------------------------------------------------------------+\n",
            "| NVIDIA-SMI 460.32.03    Driver Version: 460.32.03    CUDA Version: 11.2     |\n",
            "|-------------------------------+----------------------+----------------------+\n",
            "| GPU  Name        Persistence-M| Bus-Id        Disp.A | Volatile Uncorr. ECC |\n",
            "| Fan  Temp  Perf  Pwr:Usage/Cap|         Memory-Usage | GPU-Util  Compute M. |\n",
            "|                               |                      |               MIG M. |\n",
            "|===============================+======================+======================|\n",
            "|   0  Tesla T4            Off  | 00000000:00:04.0 Off |                    0 |\n",
            "| N/A   64C    P8    10W /  70W |      0MiB / 15109MiB |      0%      Default |\n",
            "|                               |                      |                  N/A |\n",
            "+-------------------------------+----------------------+----------------------+\n",
            "                                                                               \n",
            "+-----------------------------------------------------------------------------+\n",
            "| Processes:                                                                  |\n",
            "|  GPU   GI   CI        PID   Type   Process name                  GPU Memory |\n",
            "|        ID   ID                                                   Usage      |\n",
            "|=============================================================================|\n",
            "|  No running processes found                                                 |\n",
            "+-----------------------------------------------------------------------------+\n"
          ]
        }
      ],
      "source": [
        "!nvidia-smi"
      ]
    },
    {
      "cell_type": "code",
      "execution_count": null,
      "metadata": {
        "colab": {
          "base_uri": "https://localhost:8080/"
        },
        "id": "uMwq3PS_Oz3r",
        "outputId": "df5df34b-f86d-4885-fdc3-8d4856c106b2"
      },
      "outputs": [
        {
          "output_type": "stream",
          "name": "stdout",
          "text": [
            "Mounted at /content/gdrive\n"
          ]
        }
      ],
      "source": [
        "from google.colab import drive\n",
        "drive.mount('/content/gdrive')"
      ]
    },
    {
      "cell_type": "code",
      "execution_count": null,
      "metadata": {
        "id": "eezf6rM5R76d"
      },
      "outputs": [],
      "source": [
        "import pandas as pd\n",
        "import matplotlib.pyplot as plt\n",
        "import numpy as np\n",
        "from sklearn.svm import SVR"
      ]
    },
    {
      "cell_type": "code",
      "execution_count": null,
      "metadata": {
        "colab": {
          "base_uri": "https://localhost:8080/",
          "height": 424
        },
        "id": "0cIAkmSBSUCQ",
        "outputId": "35c8b103-1534-49bb-fb27-119a9199cc84"
      },
      "outputs": [
        {
          "output_type": "execute_result",
          "data": {
            "text/plain": [
              "            Date      Open      High       Low     Close      Volume\n",
              "0     2017-11-09  0.001207  0.001415  0.001181  0.001415     6259550\n",
              "1     2017-11-10  0.001421  0.001431  0.001125  0.001163     4246520\n",
              "2     2017-11-11  0.001146  0.001257  0.001141  0.001201     2231080\n",
              "3     2017-11-12  0.001189  0.001210  0.001002  0.001038     3288960\n",
              "4     2017-11-13  0.001046  0.001212  0.001019  0.001211     2481270\n",
              "...          ...       ...       ...       ...       ...         ...\n",
              "1527  2022-01-14  0.172053  0.203232  0.171283  0.183549  5784004926\n",
              "1528  2022-01-15  0.183644  0.193600  0.182676  0.185103  1878282290\n",
              "1529  2022-01-16  0.185093  0.185093  0.175327  0.177176  1102750171\n",
              "1530  2022-01-17  0.177187  0.177872  0.166891  0.171145  1094379303\n",
              "1531  2022-01-18  0.171080  0.173651  0.165412  0.166144  1150345216\n",
              "\n",
              "[1532 rows x 6 columns]"
            ],
            "text/html": [
              "\n",
              "  <div id=\"df-9c899e7a-5121-4fa8-9b53-2322820c913f\">\n",
              "    <div class=\"colab-df-container\">\n",
              "      <div>\n",
              "<style scoped>\n",
              "    .dataframe tbody tr th:only-of-type {\n",
              "        vertical-align: middle;\n",
              "    }\n",
              "\n",
              "    .dataframe tbody tr th {\n",
              "        vertical-align: top;\n",
              "    }\n",
              "\n",
              "    .dataframe thead th {\n",
              "        text-align: right;\n",
              "    }\n",
              "</style>\n",
              "<table border=\"1\" class=\"dataframe\">\n",
              "  <thead>\n",
              "    <tr style=\"text-align: right;\">\n",
              "      <th></th>\n",
              "      <th>Date</th>\n",
              "      <th>Open</th>\n",
              "      <th>High</th>\n",
              "      <th>Low</th>\n",
              "      <th>Close</th>\n",
              "      <th>Volume</th>\n",
              "    </tr>\n",
              "  </thead>\n",
              "  <tbody>\n",
              "    <tr>\n",
              "      <th>0</th>\n",
              "      <td>2017-11-09</td>\n",
              "      <td>0.001207</td>\n",
              "      <td>0.001415</td>\n",
              "      <td>0.001181</td>\n",
              "      <td>0.001415</td>\n",
              "      <td>6259550</td>\n",
              "    </tr>\n",
              "    <tr>\n",
              "      <th>1</th>\n",
              "      <td>2017-11-10</td>\n",
              "      <td>0.001421</td>\n",
              "      <td>0.001431</td>\n",
              "      <td>0.001125</td>\n",
              "      <td>0.001163</td>\n",
              "      <td>4246520</td>\n",
              "    </tr>\n",
              "    <tr>\n",
              "      <th>2</th>\n",
              "      <td>2017-11-11</td>\n",
              "      <td>0.001146</td>\n",
              "      <td>0.001257</td>\n",
              "      <td>0.001141</td>\n",
              "      <td>0.001201</td>\n",
              "      <td>2231080</td>\n",
              "    </tr>\n",
              "    <tr>\n",
              "      <th>3</th>\n",
              "      <td>2017-11-12</td>\n",
              "      <td>0.001189</td>\n",
              "      <td>0.001210</td>\n",
              "      <td>0.001002</td>\n",
              "      <td>0.001038</td>\n",
              "      <td>3288960</td>\n",
              "    </tr>\n",
              "    <tr>\n",
              "      <th>4</th>\n",
              "      <td>2017-11-13</td>\n",
              "      <td>0.001046</td>\n",
              "      <td>0.001212</td>\n",
              "      <td>0.001019</td>\n",
              "      <td>0.001211</td>\n",
              "      <td>2481270</td>\n",
              "    </tr>\n",
              "    <tr>\n",
              "      <th>...</th>\n",
              "      <td>...</td>\n",
              "      <td>...</td>\n",
              "      <td>...</td>\n",
              "      <td>...</td>\n",
              "      <td>...</td>\n",
              "      <td>...</td>\n",
              "    </tr>\n",
              "    <tr>\n",
              "      <th>1527</th>\n",
              "      <td>2022-01-14</td>\n",
              "      <td>0.172053</td>\n",
              "      <td>0.203232</td>\n",
              "      <td>0.171283</td>\n",
              "      <td>0.183549</td>\n",
              "      <td>5784004926</td>\n",
              "    </tr>\n",
              "    <tr>\n",
              "      <th>1528</th>\n",
              "      <td>2022-01-15</td>\n",
              "      <td>0.183644</td>\n",
              "      <td>0.193600</td>\n",
              "      <td>0.182676</td>\n",
              "      <td>0.185103</td>\n",
              "      <td>1878282290</td>\n",
              "    </tr>\n",
              "    <tr>\n",
              "      <th>1529</th>\n",
              "      <td>2022-01-16</td>\n",
              "      <td>0.185093</td>\n",
              "      <td>0.185093</td>\n",
              "      <td>0.175327</td>\n",
              "      <td>0.177176</td>\n",
              "      <td>1102750171</td>\n",
              "    </tr>\n",
              "    <tr>\n",
              "      <th>1530</th>\n",
              "      <td>2022-01-17</td>\n",
              "      <td>0.177187</td>\n",
              "      <td>0.177872</td>\n",
              "      <td>0.166891</td>\n",
              "      <td>0.171145</td>\n",
              "      <td>1094379303</td>\n",
              "    </tr>\n",
              "    <tr>\n",
              "      <th>1531</th>\n",
              "      <td>2022-01-18</td>\n",
              "      <td>0.171080</td>\n",
              "      <td>0.173651</td>\n",
              "      <td>0.165412</td>\n",
              "      <td>0.166144</td>\n",
              "      <td>1150345216</td>\n",
              "    </tr>\n",
              "  </tbody>\n",
              "</table>\n",
              "<p>1532 rows × 6 columns</p>\n",
              "</div>\n",
              "      <button class=\"colab-df-convert\" onclick=\"convertToInteractive('df-9c899e7a-5121-4fa8-9b53-2322820c913f')\"\n",
              "              title=\"Convert this dataframe to an interactive table.\"\n",
              "              style=\"display:none;\">\n",
              "        \n",
              "  <svg xmlns=\"http://www.w3.org/2000/svg\" height=\"24px\"viewBox=\"0 0 24 24\"\n",
              "       width=\"24px\">\n",
              "    <path d=\"M0 0h24v24H0V0z\" fill=\"none\"/>\n",
              "    <path d=\"M18.56 5.44l.94 2.06.94-2.06 2.06-.94-2.06-.94-.94-2.06-.94 2.06-2.06.94zm-11 1L8.5 8.5l.94-2.06 2.06-.94-2.06-.94L8.5 2.5l-.94 2.06-2.06.94zm10 10l.94 2.06.94-2.06 2.06-.94-2.06-.94-.94-2.06-.94 2.06-2.06.94z\"/><path d=\"M17.41 7.96l-1.37-1.37c-.4-.4-.92-.59-1.43-.59-.52 0-1.04.2-1.43.59L10.3 9.45l-7.72 7.72c-.78.78-.78 2.05 0 2.83L4 21.41c.39.39.9.59 1.41.59.51 0 1.02-.2 1.41-.59l7.78-7.78 2.81-2.81c.8-.78.8-2.07 0-2.86zM5.41 20L4 18.59l7.72-7.72 1.47 1.35L5.41 20z\"/>\n",
              "  </svg>\n",
              "      </button>\n",
              "      \n",
              "  <style>\n",
              "    .colab-df-container {\n",
              "      display:flex;\n",
              "      flex-wrap:wrap;\n",
              "      gap: 12px;\n",
              "    }\n",
              "\n",
              "    .colab-df-convert {\n",
              "      background-color: #E8F0FE;\n",
              "      border: none;\n",
              "      border-radius: 50%;\n",
              "      cursor: pointer;\n",
              "      display: none;\n",
              "      fill: #1967D2;\n",
              "      height: 32px;\n",
              "      padding: 0 0 0 0;\n",
              "      width: 32px;\n",
              "    }\n",
              "\n",
              "    .colab-df-convert:hover {\n",
              "      background-color: #E2EBFA;\n",
              "      box-shadow: 0px 1px 2px rgba(60, 64, 67, 0.3), 0px 1px 3px 1px rgba(60, 64, 67, 0.15);\n",
              "      fill: #174EA6;\n",
              "    }\n",
              "\n",
              "    [theme=dark] .colab-df-convert {\n",
              "      background-color: #3B4455;\n",
              "      fill: #D2E3FC;\n",
              "    }\n",
              "\n",
              "    [theme=dark] .colab-df-convert:hover {\n",
              "      background-color: #434B5C;\n",
              "      box-shadow: 0px 1px 3px 1px rgba(0, 0, 0, 0.15);\n",
              "      filter: drop-shadow(0px 1px 2px rgba(0, 0, 0, 0.3));\n",
              "      fill: #FFFFFF;\n",
              "    }\n",
              "  </style>\n",
              "\n",
              "      <script>\n",
              "        const buttonEl =\n",
              "          document.querySelector('#df-9c899e7a-5121-4fa8-9b53-2322820c913f button.colab-df-convert');\n",
              "        buttonEl.style.display =\n",
              "          google.colab.kernel.accessAllowed ? 'block' : 'none';\n",
              "\n",
              "        async function convertToInteractive(key) {\n",
              "          const element = document.querySelector('#df-9c899e7a-5121-4fa8-9b53-2322820c913f');\n",
              "          const dataTable =\n",
              "            await google.colab.kernel.invokeFunction('convertToInteractive',\n",
              "                                                     [key], {});\n",
              "          if (!dataTable) return;\n",
              "\n",
              "          const docLinkHtml = 'Like what you see? Visit the ' +\n",
              "            '<a target=\"_blank\" href=https://colab.research.google.com/notebooks/data_table.ipynb>data table notebook</a>'\n",
              "            + ' to learn more about interactive tables.';\n",
              "          element.innerHTML = '';\n",
              "          dataTable['output_type'] = 'display_data';\n",
              "          await google.colab.output.renderOutput(dataTable, element);\n",
              "          const docLink = document.createElement('div');\n",
              "          docLink.innerHTML = docLinkHtml;\n",
              "          element.appendChild(docLink);\n",
              "        }\n",
              "      </script>\n",
              "    </div>\n",
              "  </div>\n",
              "  "
            ]
          },
          "metadata": {},
          "execution_count": 4
        }
      ],
      "source": [
        "df = pd.read_csv(\"/content/gdrive/MyDrive/DOGE-USD.csv\")\n",
        "df"
      ]
    },
    {
      "cell_type": "code",
      "execution_count": null,
      "metadata": {
        "id": "bRk-yvjcK3lQ"
      },
      "outputs": [],
      "source": [
        "import math\n",
        "import matplotlib.pyplot as plt\n",
        "import keras\n",
        "import pandas as pd\n",
        "import numpy as np\n",
        "from keras.models import Sequential\n",
        "from keras.layers import Dense\n",
        "from keras.layers import LSTM\n",
        "from keras.layers import Dropout\n",
        "from keras.layers import *\n",
        "from sklearn.preprocessing import MinMaxScaler\n",
        "from sklearn.metrics import mean_squared_error\n",
        "from sklearn.metrics import mean_absolute_error\n",
        "from sklearn.model_selection import train_test_split\n",
        "from keras.callbacks import EarlyStopping"
      ]
    },
    {
      "cell_type": "markdown",
      "metadata": {
        "id": "f4iq5q3Ba6dW"
      },
      "source": [
        "#1. Custom Datasets"
      ]
    },
    {
      "cell_type": "code",
      "execution_count": null,
      "metadata": {
        "colab": {
          "base_uri": "https://localhost:8080/"
        },
        "id": "Qs3gY2csLS9w",
        "outputId": "6fa63a7e-e5e2-4efb-e2b8-5bceb9471002"
      },
      "outputs": [
        {
          "output_type": "stream",
          "name": "stdout",
          "text": [
            "Number of rows:  1532\n",
            "Number of trains:  1032\n"
          ]
        }
      ],
      "source": [
        "df = df.iloc[:,:]\n",
        "(num_row, num_column) = df.shape\n",
        "print('Number of rows: ',num_row)\n",
        "num_validation = 500\n",
        "num_train = num_row - num_validation\n",
        "print('Number of trains: ',num_train)"
      ]
    },
    {
      "cell_type": "code",
      "execution_count": null,
      "metadata": {
        "colab": {
          "base_uri": "https://localhost:8080/"
        },
        "id": "t2l0wzH5LvBz",
        "outputId": "6fe85757-b49c-4dd1-be0a-aff2e46cef68"
      },
      "outputs": [
        {
          "output_type": "stream",
          "name": "stdout",
          "text": [
            "(1032, 1)\n",
            "(500, 1)\n",
            "(972, 60, 1)\n",
            "(972,)\n",
            "(440, 60, 1)\n",
            "(440,)\n"
          ]
        }
      ],
      "source": [
        "#Format training dataset\n",
        "training_set = df.iloc[:num_train, 4:5].values\n",
        "validation_set = df.iloc[num_train:, 4:5].values\n",
        "# print(test_set.shape)\n",
        "# Feature Scaling\n",
        "sc = MinMaxScaler(feature_range = (0, 1))\n",
        "training_set_scaled = sc.fit_transform(training_set)\n",
        "validation_set_scaled = sc.fit_transform(validation_set)\n",
        "print(training_set_scaled.shape)\n",
        "print(validation_set_scaled.shape)\n",
        "# Creating a data structure with 60 time-steps and 1 output\n",
        "X_train = []\n",
        "y_train = []\n",
        "X_val = []\n",
        "y_val = []\n",
        "for i in range(60, num_train):\n",
        "    X_train.append(training_set_scaled[i-60:i, 0])\n",
        "    y_train.append(training_set_scaled[i, 0])\n",
        "for j in range(60, num_validation):\n",
        "    X_val.append(validation_set_scaled[j-60:j, 0])\n",
        "    y_val.append(validation_set_scaled[j,0])  \n",
        "X_train, y_train = np.array(X_train), np.array(y_train)\n",
        "X_train = np.reshape(X_train, (X_train.shape[0], X_train.shape[1], 1))\n",
        "X_val, y_val = np.array(X_val), np.array(y_val)\n",
        "X_val = np.reshape(X_val, (X_val.shape[0], X_val.shape[1], 1))\n",
        "print(X_train.shape)\n",
        "print(y_train.shape)\n",
        "print(X_val.shape)\n",
        "print(y_val.shape)"
      ]
    },
    {
      "cell_type": "markdown",
      "metadata": {
        "id": "M_Z4CKzzbDAH"
      },
      "source": [
        "#2. Create LSTM model"
      ]
    },
    {
      "cell_type": "code",
      "execution_count": null,
      "metadata": {
        "colab": {
          "base_uri": "https://localhost:8080/"
        },
        "id": "vHgqnKbG2Gkz",
        "outputId": "388e63d0-7f4d-40ba-f7bb-025c895d2b27"
      },
      "outputs": [
        {
          "output_type": "stream",
          "name": "stdout",
          "text": [
            "Looking in indexes: https://pypi.org/simple, https://us-python.pkg.dev/colab-wheels/public/simple/\n",
            "Collecting visualkeras\n",
            "  Downloading visualkeras-0.0.2-py3-none-any.whl (12 kB)\n",
            "Requirement already satisfied: pillow>=6.2.0 in /usr/local/lib/python3.7/dist-packages (from visualkeras) (7.1.2)\n",
            "Requirement already satisfied: numpy>=1.18.1 in /usr/local/lib/python3.7/dist-packages (from visualkeras) (1.21.6)\n",
            "Collecting aggdraw>=1.3.11\n",
            "  Downloading aggdraw-1.3.15-cp37-cp37m-manylinux_2_17_x86_64.manylinux2014_x86_64.whl (989 kB)\n",
            "\u001b[K     |████████████████████████████████| 989 kB 24.6 MB/s \n",
            "\u001b[?25hInstalling collected packages: aggdraw, visualkeras\n",
            "Successfully installed aggdraw-1.3.15 visualkeras-0.0.2\n"
          ]
        }
      ],
      "source": [
        "!pip install visualkeras"
      ]
    },
    {
      "cell_type": "code",
      "execution_count": null,
      "metadata": {
        "id": "Y_lSRHuPK4rE"
      },
      "outputs": [],
      "source": [
        "# import visualkeras\n",
        "model = keras.models.Sequential()\n",
        "#Adding the first LSTM layer and some Dropout regularisation\n",
        "model.add(LSTM(units = 50, return_sequences = True, input_shape = (X_train.shape[1], 1)))\n",
        "model.add(Dropout(0.2))\n",
        "# Adding a second LSTM layer and some Dropout regularisation\n",
        "model.add(LSTM(units = 50, return_sequences = True))\n",
        "model.add(Dropout(0.2))\n",
        "# Adding a third LSTM layer and some Dropout regularisation\n",
        "model.add(LSTM(units = 50, return_sequences = True))\n",
        "model.add(Dropout(0.2))\n",
        "model.add(LSTM(units = 50, return_sequences = True))\n",
        "model.add(Dropout(0.2))\n",
        "model.add(LSTM(units = 50, return_sequences = True))\n",
        "model.add(Dropout(0.2))\n",
        "model.add(LSTM(units = 50, return_sequences = True))\n",
        "model.add(Dropout(0.2))\n",
        "model.add(LSTM(units = 50, return_sequences = True))\n",
        "model.add(Dropout(0.2))\n",
        "# Adding a fourth LSTM layer and some Dropout regularisation\n",
        "model.add(LSTM(units = 50))\n",
        "model.add(Dropout(0.5))\n",
        "# Adding the output layer\n",
        "model.add(Dense(units = 1))\n",
        "#visual model\n",
        "# visualkeras.layered_view(model).show()\n",
        "# Compiling the RNN\n",
        "model.compile(optimizer=tf.keras.optimizers.Adam(learning_rate=1e-3), loss=\"mean_squared_error\")"
      ]
    },
    {
      "cell_type": "code",
      "execution_count": null,
      "metadata": {
        "colab": {
          "base_uri": "https://localhost:8080/"
        },
        "id": "GCkySxyeM6wr",
        "outputId": "b73e9585-6ccf-4127-ebb1-a97429f4bf75"
      },
      "outputs": [
        {
          "output_type": "stream",
          "name": "stdout",
          "text": [
            "Model: \"sequential\"\n",
            "_________________________________________________________________\n",
            " Layer (type)                Output Shape              Param #   \n",
            "=================================================================\n",
            " lstm (LSTM)                 (None, 60, 50)            10400     \n",
            "                                                                 \n",
            " dropout (Dropout)           (None, 60, 50)            0         \n",
            "                                                                 \n",
            " lstm_1 (LSTM)               (None, 60, 50)            20200     \n",
            "                                                                 \n",
            " dropout_1 (Dropout)         (None, 60, 50)            0         \n",
            "                                                                 \n",
            " lstm_2 (LSTM)               (None, 60, 50)            20200     \n",
            "                                                                 \n",
            " dropout_2 (Dropout)         (None, 60, 50)            0         \n",
            "                                                                 \n",
            " lstm_3 (LSTM)               (None, 60, 50)            20200     \n",
            "                                                                 \n",
            " dropout_3 (Dropout)         (None, 60, 50)            0         \n",
            "                                                                 \n",
            " lstm_4 (LSTM)               (None, 60, 50)            20200     \n",
            "                                                                 \n",
            " dropout_4 (Dropout)         (None, 60, 50)            0         \n",
            "                                                                 \n",
            " lstm_5 (LSTM)               (None, 60, 50)            20200     \n",
            "                                                                 \n",
            " dropout_5 (Dropout)         (None, 60, 50)            0         \n",
            "                                                                 \n",
            " lstm_6 (LSTM)               (None, 60, 50)            20200     \n",
            "                                                                 \n",
            " dropout_6 (Dropout)         (None, 60, 50)            0         \n",
            "                                                                 \n",
            " lstm_7 (LSTM)               (None, 50)                20200     \n",
            "                                                                 \n",
            " dropout_7 (Dropout)         (None, 50)                0         \n",
            "                                                                 \n",
            " dense (Dense)               (None, 1)                 51        \n",
            "                                                                 \n",
            "=================================================================\n",
            "Total params: 151,851\n",
            "Trainable params: 151,851\n",
            "Non-trainable params: 0\n",
            "_________________________________________________________________\n"
          ]
        }
      ],
      "source": [
        "model.summary()"
      ]
    },
    {
      "cell_type": "markdown",
      "metadata": {
        "id": "lsvxGmOZbNih"
      },
      "source": [
        "#3. Training"
      ]
    },
    {
      "cell_type": "code",
      "execution_count": null,
      "metadata": {
        "colab": {
          "base_uri": "https://localhost:8080/"
        },
        "id": "9PHiwFD8NBm2",
        "outputId": "39acee1f-8277-45c7-cbe7-6f569cde91e4"
      },
      "outputs": [
        {
          "output_type": "stream",
          "name": "stdout",
          "text": [
            "Epoch 1/100\n",
            "81/81 [==============================] - 19s 44ms/step - loss: 0.0085\n",
            "Epoch 2/100\n",
            "81/81 [==============================] - 4s 45ms/step - loss: 0.0056\n",
            "Epoch 3/100\n",
            "81/81 [==============================] - 5s 57ms/step - loss: 0.0046\n",
            "Epoch 4/100\n",
            "81/81 [==============================] - 5s 56ms/step - loss: 0.0040\n",
            "Epoch 5/100\n",
            "81/81 [==============================] - 5s 57ms/step - loss: 0.0036\n",
            "Epoch 6/100\n",
            "81/81 [==============================] - 4s 55ms/step - loss: 0.0032\n",
            "Epoch 7/100\n",
            "81/81 [==============================] - 5s 56ms/step - loss: 0.0036\n",
            "Epoch 8/100\n",
            "81/81 [==============================] - 5s 59ms/step - loss: 0.0035\n",
            "Epoch 9/100\n",
            "81/81 [==============================] - 4s 45ms/step - loss: 0.0027\n",
            "Epoch 10/100\n",
            "81/81 [==============================] - 3s 31ms/step - loss: 0.0030\n",
            "Epoch 11/100\n",
            "81/81 [==============================] - 2s 26ms/step - loss: 0.0025\n",
            "Epoch 12/100\n",
            "81/81 [==============================] - 2s 27ms/step - loss: 0.0025\n",
            "Epoch 13/100\n",
            "81/81 [==============================] - 2s 26ms/step - loss: 0.0026\n",
            "Epoch 14/100\n",
            "81/81 [==============================] - 2s 26ms/step - loss: 0.0026\n",
            "Epoch 15/100\n",
            "81/81 [==============================] - 2s 26ms/step - loss: 0.0022\n",
            "Epoch 16/100\n",
            "81/81 [==============================] - 2s 26ms/step - loss: 0.0021\n",
            "Epoch 17/100\n",
            "81/81 [==============================] - 2s 26ms/step - loss: 0.0019\n",
            "Epoch 18/100\n",
            "81/81 [==============================] - 2s 26ms/step - loss: 0.0022\n",
            "Epoch 19/100\n",
            "81/81 [==============================] - 2s 26ms/step - loss: 0.0018\n",
            "Epoch 20/100\n",
            "81/81 [==============================] - 2s 28ms/step - loss: 0.0017\n",
            "Epoch 21/100\n",
            "81/81 [==============================] - 2s 25ms/step - loss: 0.0018\n",
            "Epoch 22/100\n",
            "81/81 [==============================] - 2s 28ms/step - loss: 0.0013\n",
            "Epoch 23/100\n",
            "81/81 [==============================] - 2s 26ms/step - loss: 0.0017\n",
            "Epoch 24/100\n",
            "81/81 [==============================] - 2s 26ms/step - loss: 0.0013\n",
            "Epoch 25/100\n",
            "81/81 [==============================] - 2s 26ms/step - loss: 0.0015\n",
            "Epoch 26/100\n",
            "81/81 [==============================] - 2s 26ms/step - loss: 0.0012\n",
            "Epoch 27/100\n",
            "81/81 [==============================] - 2s 26ms/step - loss: 0.0013\n",
            "Epoch 28/100\n",
            "81/81 [==============================] - 2s 26ms/step - loss: 0.0011\n",
            "Epoch 29/100\n",
            "81/81 [==============================] - 2s 26ms/step - loss: 0.0017\n",
            "Epoch 30/100\n",
            "81/81 [==============================] - 2s 26ms/step - loss: 0.0012\n",
            "Epoch 31/100\n",
            "81/81 [==============================] - 2s 26ms/step - loss: 0.0011\n",
            "Epoch 32/100\n",
            "81/81 [==============================] - 2s 26ms/step - loss: 0.0010\n",
            "Epoch 33/100\n",
            "81/81 [==============================] - 2s 30ms/step - loss: 0.0012\n",
            "Epoch 34/100\n",
            "81/81 [==============================] - 3s 40ms/step - loss: 0.0014\n",
            "Epoch 35/100\n",
            "81/81 [==============================] - 2s 26ms/step - loss: 0.0013\n",
            "Epoch 36/100\n",
            "81/81 [==============================] - 2s 27ms/step - loss: 0.0011\n",
            "Epoch 37/100\n",
            "81/81 [==============================] - 2s 27ms/step - loss: 9.6824e-04\n",
            "Epoch 38/100\n",
            "81/81 [==============================] - 2s 27ms/step - loss: 0.0010\n",
            "Epoch 39/100\n",
            "81/81 [==============================] - 2s 26ms/step - loss: 0.0011\n",
            "Epoch 40/100\n",
            "81/81 [==============================] - 2s 26ms/step - loss: 9.2135e-04\n",
            "Epoch 41/100\n",
            "81/81 [==============================] - 2s 26ms/step - loss: 0.0010\n",
            "Epoch 42/100\n",
            "81/81 [==============================] - 2s 26ms/step - loss: 9.0663e-04\n",
            "Epoch 43/100\n",
            "81/81 [==============================] - 2s 26ms/step - loss: 0.0011\n",
            "Epoch 44/100\n",
            "81/81 [==============================] - 2s 26ms/step - loss: 0.0011\n",
            "Epoch 45/100\n",
            "81/81 [==============================] - 2s 26ms/step - loss: 0.0010\n",
            "Epoch 46/100\n",
            "81/81 [==============================] - 3s 33ms/step - loss: 7.4958e-04\n",
            "Epoch 47/100\n",
            "81/81 [==============================] - 3s 33ms/step - loss: 0.0011\n",
            "Epoch 48/100\n",
            "81/81 [==============================] - 3s 35ms/step - loss: 9.4251e-04\n",
            "Epoch 49/100\n",
            "81/81 [==============================] - 2s 26ms/step - loss: 0.0010\n",
            "Epoch 50/100\n",
            "81/81 [==============================] - 2s 26ms/step - loss: 0.0011\n",
            "Epoch 51/100\n",
            "81/81 [==============================] - 2s 26ms/step - loss: 9.6461e-04\n",
            "Epoch 52/100\n",
            "81/81 [==============================] - 2s 26ms/step - loss: 8.1922e-04\n",
            "Epoch 53/100\n",
            "81/81 [==============================] - 2s 26ms/step - loss: 8.4980e-04\n",
            "Epoch 54/100\n",
            "81/81 [==============================] - 2s 26ms/step - loss: 0.0011\n",
            "Epoch 55/100\n",
            "81/81 [==============================] - 2s 27ms/step - loss: 7.3331e-04\n",
            "Epoch 56/100\n",
            "81/81 [==============================] - 2s 26ms/step - loss: 7.5390e-04\n",
            "Epoch 57/100\n",
            "81/81 [==============================] - 2s 26ms/step - loss: 6.3513e-04\n",
            "Epoch 58/100\n",
            "81/81 [==============================] - 2s 26ms/step - loss: 9.0094e-04\n",
            "Epoch 59/100\n",
            "81/81 [==============================] - 2s 26ms/step - loss: 9.2281e-04\n",
            "Epoch 60/100\n",
            "81/81 [==============================] - 2s 27ms/step - loss: 9.3537e-04\n",
            "Epoch 61/100\n",
            "81/81 [==============================] - 2s 28ms/step - loss: 6.3299e-04\n",
            "Epoch 62/100\n",
            "81/81 [==============================] - 2s 26ms/step - loss: 7.7462e-04\n",
            "Epoch 63/100\n",
            "81/81 [==============================] - 2s 26ms/step - loss: 6.6499e-04\n",
            "Epoch 64/100\n",
            "81/81 [==============================] - 2s 26ms/step - loss: 8.2505e-04\n",
            "Epoch 65/100\n",
            "81/81 [==============================] - 2s 26ms/step - loss: 9.8012e-04\n",
            "Epoch 66/100\n",
            "81/81 [==============================] - 2s 26ms/step - loss: 9.2324e-04\n",
            "Epoch 67/100\n",
            "81/81 [==============================] - 2s 26ms/step - loss: 7.3872e-04\n",
            "Epoch 68/100\n",
            "81/81 [==============================] - 2s 26ms/step - loss: 7.2346e-04\n",
            "Epoch 69/100\n",
            "81/81 [==============================] - 2s 26ms/step - loss: 9.0874e-04\n",
            "Epoch 70/100\n",
            "81/81 [==============================] - 2s 26ms/step - loss: 8.5148e-04\n",
            "Epoch 71/100\n",
            "81/81 [==============================] - 2s 27ms/step - loss: 8.7511e-04\n",
            "Epoch 72/100\n",
            "81/81 [==============================] - 4s 43ms/step - loss: 7.0461e-04\n",
            "Epoch 73/100\n",
            "81/81 [==============================] - 2s 26ms/step - loss: 9.8028e-04\n",
            "Epoch 74/100\n",
            "81/81 [==============================] - 2s 26ms/step - loss: 9.5766e-04\n",
            "Epoch 75/100\n",
            "81/81 [==============================] - 2s 26ms/step - loss: 7.8869e-04\n",
            "Epoch 76/100\n",
            "81/81 [==============================] - 2s 26ms/step - loss: 8.4398e-04\n",
            "Epoch 77/100\n",
            "81/81 [==============================] - 2s 26ms/step - loss: 9.1919e-04\n",
            "Epoch 78/100\n",
            "81/81 [==============================] - 2s 26ms/step - loss: 7.8875e-04\n",
            "Epoch 79/100\n",
            "81/81 [==============================] - 2s 26ms/step - loss: 7.9747e-04\n",
            "Epoch 80/100\n",
            "81/81 [==============================] - 2s 26ms/step - loss: 6.4524e-04\n",
            "Epoch 81/100\n",
            "81/81 [==============================] - 2s 26ms/step - loss: 8.7132e-04\n",
            "Epoch 82/100\n",
            "81/81 [==============================] - 3s 34ms/step - loss: 8.4177e-04\n",
            "Epoch 83/100\n",
            "81/81 [==============================] - 3s 31ms/step - loss: 6.4854e-04\n",
            "Epoch 84/100\n",
            "81/81 [==============================] - 2s 26ms/step - loss: 9.3993e-04\n",
            "Epoch 85/100\n",
            "81/81 [==============================] - 2s 26ms/step - loss: 6.2596e-04\n",
            "Epoch 86/100\n",
            "81/81 [==============================] - 2s 26ms/step - loss: 7.5339e-04\n",
            "Epoch 87/100\n",
            "81/81 [==============================] - 2s 26ms/step - loss: 0.0011\n",
            "Epoch 88/100\n",
            "81/81 [==============================] - 2s 26ms/step - loss: 8.2473e-04\n",
            "Epoch 89/100\n",
            "81/81 [==============================] - 2s 26ms/step - loss: 6.7271e-04\n",
            "Epoch 90/100\n",
            "81/81 [==============================] - 2s 26ms/step - loss: 6.3017e-04\n",
            "Epoch 91/100\n",
            "81/81 [==============================] - 2s 27ms/step - loss: 6.5644e-04\n",
            "Epoch 92/100\n",
            "81/81 [==============================] - 2s 27ms/step - loss: 6.2745e-04\n",
            "Epoch 93/100\n",
            "81/81 [==============================] - 2s 26ms/step - loss: 6.4687e-04\n",
            "Epoch 94/100\n",
            "81/81 [==============================] - 2s 26ms/step - loss: 6.1699e-04\n",
            "Epoch 95/100\n",
            "81/81 [==============================] - 2s 26ms/step - loss: 5.8939e-04\n",
            "Epoch 96/100\n",
            "81/81 [==============================] - 2s 27ms/step - loss: 6.8888e-04\n",
            "Epoch 97/100\n",
            "81/81 [==============================] - 2s 26ms/step - loss: 7.3398e-04\n",
            "Epoch 98/100\n",
            "81/81 [==============================] - 2s 26ms/step - loss: 7.8039e-04\n",
            "Epoch 99/100\n",
            "81/81 [==============================] - 2s 26ms/step - loss: 6.1707e-04\n",
            "Epoch 100/100\n",
            "81/81 [==============================] - 2s 26ms/step - loss: 8.0426e-04\n"
          ]
        },
        {
          "output_type": "execute_result",
          "data": {
            "text/plain": [
              "<keras.callbacks.History at 0x7fc7bcb0de90>"
            ]
          },
          "metadata": {},
          "execution_count": 11
        }
      ],
      "source": [
        "his = tf.keras.callbacks.History()\n",
        "model.fit(X_train, y_train, epochs = 100, batch_size = 12, callbacks=[tf.keras.callbacks.CSVLogger('his.csv')])"
      ]
    },
    {
      "cell_type": "code",
      "execution_count": null,
      "metadata": {
        "colab": {
          "base_uri": "https://localhost:8080/",
          "height": 206
        },
        "id": "o0hv3oNrW28U",
        "outputId": "7b2ce165-520e-4ca3-f9d9-01d5c7bea0a1"
      },
      "outputs": [
        {
          "output_type": "execute_result",
          "data": {
            "text/plain": [
              "   epoch      loss\n",
              "0      0  0.008536\n",
              "1      1  0.005628\n",
              "2      2  0.004588\n",
              "3      3  0.003986\n",
              "4      4  0.003566"
            ],
            "text/html": [
              "\n",
              "  <div id=\"df-a4465241-4479-4ce0-bb5a-da49a1861487\">\n",
              "    <div class=\"colab-df-container\">\n",
              "      <div>\n",
              "<style scoped>\n",
              "    .dataframe tbody tr th:only-of-type {\n",
              "        vertical-align: middle;\n",
              "    }\n",
              "\n",
              "    .dataframe tbody tr th {\n",
              "        vertical-align: top;\n",
              "    }\n",
              "\n",
              "    .dataframe thead th {\n",
              "        text-align: right;\n",
              "    }\n",
              "</style>\n",
              "<table border=\"1\" class=\"dataframe\">\n",
              "  <thead>\n",
              "    <tr style=\"text-align: right;\">\n",
              "      <th></th>\n",
              "      <th>epoch</th>\n",
              "      <th>loss</th>\n",
              "    </tr>\n",
              "  </thead>\n",
              "  <tbody>\n",
              "    <tr>\n",
              "      <th>0</th>\n",
              "      <td>0</td>\n",
              "      <td>0.008536</td>\n",
              "    </tr>\n",
              "    <tr>\n",
              "      <th>1</th>\n",
              "      <td>1</td>\n",
              "      <td>0.005628</td>\n",
              "    </tr>\n",
              "    <tr>\n",
              "      <th>2</th>\n",
              "      <td>2</td>\n",
              "      <td>0.004588</td>\n",
              "    </tr>\n",
              "    <tr>\n",
              "      <th>3</th>\n",
              "      <td>3</td>\n",
              "      <td>0.003986</td>\n",
              "    </tr>\n",
              "    <tr>\n",
              "      <th>4</th>\n",
              "      <td>4</td>\n",
              "      <td>0.003566</td>\n",
              "    </tr>\n",
              "  </tbody>\n",
              "</table>\n",
              "</div>\n",
              "      <button class=\"colab-df-convert\" onclick=\"convertToInteractive('df-a4465241-4479-4ce0-bb5a-da49a1861487')\"\n",
              "              title=\"Convert this dataframe to an interactive table.\"\n",
              "              style=\"display:none;\">\n",
              "        \n",
              "  <svg xmlns=\"http://www.w3.org/2000/svg\" height=\"24px\"viewBox=\"0 0 24 24\"\n",
              "       width=\"24px\">\n",
              "    <path d=\"M0 0h24v24H0V0z\" fill=\"none\"/>\n",
              "    <path d=\"M18.56 5.44l.94 2.06.94-2.06 2.06-.94-2.06-.94-.94-2.06-.94 2.06-2.06.94zm-11 1L8.5 8.5l.94-2.06 2.06-.94-2.06-.94L8.5 2.5l-.94 2.06-2.06.94zm10 10l.94 2.06.94-2.06 2.06-.94-2.06-.94-.94-2.06-.94 2.06-2.06.94z\"/><path d=\"M17.41 7.96l-1.37-1.37c-.4-.4-.92-.59-1.43-.59-.52 0-1.04.2-1.43.59L10.3 9.45l-7.72 7.72c-.78.78-.78 2.05 0 2.83L4 21.41c.39.39.9.59 1.41.59.51 0 1.02-.2 1.41-.59l7.78-7.78 2.81-2.81c.8-.78.8-2.07 0-2.86zM5.41 20L4 18.59l7.72-7.72 1.47 1.35L5.41 20z\"/>\n",
              "  </svg>\n",
              "      </button>\n",
              "      \n",
              "  <style>\n",
              "    .colab-df-container {\n",
              "      display:flex;\n",
              "      flex-wrap:wrap;\n",
              "      gap: 12px;\n",
              "    }\n",
              "\n",
              "    .colab-df-convert {\n",
              "      background-color: #E8F0FE;\n",
              "      border: none;\n",
              "      border-radius: 50%;\n",
              "      cursor: pointer;\n",
              "      display: none;\n",
              "      fill: #1967D2;\n",
              "      height: 32px;\n",
              "      padding: 0 0 0 0;\n",
              "      width: 32px;\n",
              "    }\n",
              "\n",
              "    .colab-df-convert:hover {\n",
              "      background-color: #E2EBFA;\n",
              "      box-shadow: 0px 1px 2px rgba(60, 64, 67, 0.3), 0px 1px 3px 1px rgba(60, 64, 67, 0.15);\n",
              "      fill: #174EA6;\n",
              "    }\n",
              "\n",
              "    [theme=dark] .colab-df-convert {\n",
              "      background-color: #3B4455;\n",
              "      fill: #D2E3FC;\n",
              "    }\n",
              "\n",
              "    [theme=dark] .colab-df-convert:hover {\n",
              "      background-color: #434B5C;\n",
              "      box-shadow: 0px 1px 3px 1px rgba(0, 0, 0, 0.15);\n",
              "      filter: drop-shadow(0px 1px 2px rgba(0, 0, 0, 0.3));\n",
              "      fill: #FFFFFF;\n",
              "    }\n",
              "  </style>\n",
              "\n",
              "      <script>\n",
              "        const buttonEl =\n",
              "          document.querySelector('#df-a4465241-4479-4ce0-bb5a-da49a1861487 button.colab-df-convert');\n",
              "        buttonEl.style.display =\n",
              "          google.colab.kernel.accessAllowed ? 'block' : 'none';\n",
              "\n",
              "        async function convertToInteractive(key) {\n",
              "          const element = document.querySelector('#df-a4465241-4479-4ce0-bb5a-da49a1861487');\n",
              "          const dataTable =\n",
              "            await google.colab.kernel.invokeFunction('convertToInteractive',\n",
              "                                                     [key], {});\n",
              "          if (!dataTable) return;\n",
              "\n",
              "          const docLinkHtml = 'Like what you see? Visit the ' +\n",
              "            '<a target=\"_blank\" href=https://colab.research.google.com/notebooks/data_table.ipynb>data table notebook</a>'\n",
              "            + ' to learn more about interactive tables.';\n",
              "          element.innerHTML = '';\n",
              "          dataTable['output_type'] = 'display_data';\n",
              "          await google.colab.output.renderOutput(dataTable, element);\n",
              "          const docLink = document.createElement('div');\n",
              "          docLink.innerHTML = docLinkHtml;\n",
              "          element.appendChild(docLink);\n",
              "        }\n",
              "      </script>\n",
              "    </div>\n",
              "  </div>\n",
              "  "
            ]
          },
          "metadata": {},
          "execution_count": 12
        }
      ],
      "source": [
        "his = pd.read_csv('his.csv') \n",
        "his.head()"
      ]
    },
    {
      "cell_type": "code",
      "execution_count": null,
      "metadata": {
        "colab": {
          "base_uri": "https://localhost:8080/",
          "height": 499
        },
        "id": "50DjBCI0PhAO",
        "outputId": "8f3ba803-8243-45d3-d773-20701a59a1b2"
      },
      "outputs": [
        {
          "output_type": "display_data",
          "data": {
            "text/plain": [
              "<Figure size 720x576 with 1 Axes>"
            ],
            "image/png": "[encoded data removed]"
          },
          "metadata": {
            "needs_background": "light"
          }
        }
      ],
      "source": [
        "import matplotlib.pyplot as plt\n",
        "plt.figure(figsize=(10,8))\n",
        "plt.plot(his.epoch, his.loss,\"b-\", label=\"training loss\")\n",
        "# plt.plot(his.epoch, his.val_loss,\"r-\", label=\"validation loss\")\n",
        "plt.title('LOSS')\n",
        "plt.legend()\n",
        "plt.show()"
      ]
    },
    {
      "cell_type": "code",
      "execution_count": null,
      "metadata": {
        "id": "kQL4vMuQ4c2Y"
      },
      "outputs": [],
      "source": [
        "model.save('/content/weight.h5')"
      ]
    },
    {
      "cell_type": "code",
      "execution_count": null,
      "metadata": {
        "id": "VkhjC_BRdrG_"
      },
      "outputs": [],
      "source": [
        "!mv /content/weight.h5 /content/gdrive/MyDrive/Colab_Notebooks"
      ]
    },
    {
      "cell_type": "markdown",
      "metadata": {
        "id": "RRby2ICZbSiX"
      },
      "source": [
        "#4. Testing"
      ]
    },
    {
      "cell_type": "markdown",
      "metadata": {
        "id": "z5XxGqm9bYOm"
      },
      "source": [
        "#4.1. Predict from real data"
      ]
    },
    {
      "cell_type": "code",
      "execution_count": null,
      "metadata": {
        "colab": {
          "base_uri": "https://localhost:8080/"
        },
        "id": "elEfRHUUNQnt",
        "outputId": "6964c6c6-609d-46cb-a699-1c2388f8c13b"
      },
      "outputs": [
        {
          "output_type": "stream",
          "name": "stdout",
          "text": [
            "(366, 1)\n",
            "(1032, 1)\n",
            "(1092, 1)\n"
          ]
        }
      ],
      "source": [
        "# Getting the predicted \n",
        "df_test = pd.read_csv('/content/gdrive/MyDrive/Colab_Notebooks/DOGE_TEST.csv')\n",
        "testing_set=df_test.filter(['Close'])\n",
        "training_set = df.filter(['Close'])\n",
        "training_set = df.iloc[:num_train, 4:5]\n",
        "print(testing_set.shape)\n",
        "print(training_set.shape)\n",
        "# real_stock_prices = testing_set['Close'].values\n",
        "# print(real_stock_prices.shape)\n",
        "total_dataset = pd.concat((training_set['Close'],testing_set['Close']), axis = 0)\n",
        "inputs = total_dataset[len(total_dataset) - len(training_set) - 60:].values\n",
        "inputs = inputs.reshape(-1,1)\n",
        "# inputs = sc.transform(inputs)\n",
        "print(inputs.shape)"
      ]
    },
    {
      "cell_type": "code",
      "execution_count": null,
      "metadata": {
        "colab": {
          "base_uri": "https://localhost:8080/",
          "height": 549
        },
        "id": "4S4Vkq2QVq5o",
        "outputId": "afa574a9-0b9b-4cda-dfe3-72344de2ddbd"
      },
      "outputs": [
        {
          "output_type": "stream",
          "name": "stdout",
          "text": [
            "(1032, 60, 1)\n",
            "(365,)\n"
          ]
        },
        {
          "output_type": "display_data",
          "data": {
            "text/plain": [
              "<Figure size 720x576 with 1 Axes>"
            ],
            "image/png": "[encoded data removed]"
          },
          "metadata": {
            "needs_background": "light"
          }
        }
      ],
      "source": [
        "X_test = []\n",
        "for i in range(60, inputs.shape[0]):\n",
        "    X_test.append(inputs[i-60:i, :])\n",
        "X_test = np.array(X_test)\n",
        "X_test = np.reshape(X_test, (X_test.shape[0], X_test.shape[1], 1))\n",
        "print(X_test.shape)\n",
        "# model = keras.models.load_model('/content/gdrive/MyDrive/Colab_Notebooks/weight.h5')\n",
        "# Predict from real data\n",
        "# Re-scale values from datasets\n",
        "# model.load_weights('/content/gdrive/MyDrive/Colab_Notebooks/weight.h5')\n",
        "# Evaluate the model\n",
        "# loss, acc = model.evaluate(X_test, verbose=2)\n",
        "# print(\"Restored model, accuracy: {:5.2f}%\".format(100 * acc))\n",
        "predicted_stock_price = model.predict(X_test)\n",
        "# testing_set = sc.inverse_transform(testing_set)\n",
        "print(predicted_stock_price[667:,0].shape)\n",
        "# Visualising the results\n",
        "plt.figure(figsize=(10,8))\n",
        "# plt.plot(training_set, 'b-', label = 'Real Stock Price Close')\n",
        "plt.plot(testing_set, 'b-', label = 'Real Stock Price Close')\n",
        "plt.plot(predicted_stock_price[667:,0], 'r-', label = 'Predicted Stock Price')\n",
        "plt.xticks(np.arange(0,num_validation,50))\n",
        "plt.title('Doge Price Prediction')\n",
        "plt.xlabel('Time')\n",
        "plt.ylabel('Price')\n",
        "plt.legend()\n",
        "plt.show()"
      ]
    },
    {
      "cell_type": "markdown",
      "metadata": {
        "id": "s31uG2dzvaUg"
      },
      "source": [
        "#4.2. Self Prediction"
      ]
    },
    {
      "cell_type": "code",
      "execution_count": null,
      "metadata": {
        "colab": {
          "base_uri": "https://localhost:8080/",
          "height": 535
        },
        "id": "dyGlmIKaNe9L",
        "outputId": "85ff7321-0a35-4547-fab5-d127e301d236"
      },
      "outputs": [
        {
          "output_type": "stream",
          "name": "stdout",
          "text": [
            "MAPE: 0.10150284457770199\n",
            "\n"
          ]
        },
        {
          "output_type": "display_data",
          "data": {
            "text/plain": [
              "<Figure size 720x576 with 1 Axes>"
            ],
            "image/png": "[encoded data removed]"
          },
          "metadata": {
            "needs_background": "light"
          }
        }
      ],
      "source": [
        "#Self prediction\n",
        "y_predict = np.array(predicted_stock_price[668:,0])\n",
        "y_actual = np.array(testing_set)\n",
        "y_t = np.zeros((len(y_predict),1))\n",
        "loss = []\n",
        "for i in range(1,len(y_predict)):\n",
        "    e = np.abs(y_actual[i-1]-y_predict[i-1])\n",
        "    loss.append(e)\n",
        "    y_t[i] = y_predict[i-1] + 0.5*e\n",
        "MAPE = np.abs((y_actual[:365,]-y_predict)).mean()\n",
        "print(\"MAPE: {}\\n\".format(MAPE))\n",
        "plt.figure(figsize=(10,8))\n",
        "plt.plot(y_t,'r', label='Real Stock Price Close')\n",
        "plt.plot(y_actual,'b', label='Predicted Stock Price')\n",
        "plt.title(\"Self Prediction\")\n",
        "plt.legend()\n",
        "plt.show()"
      ]
    },
    {
      "cell_type": "markdown",
      "metadata": {
        "id": "lv-Ree427tDB"
      },
      "source": [
        "#Trend Prediction"
      ]
    },
    {
      "cell_type": "code",
      "execution_count": null,
      "metadata": {
        "colab": {
          "base_uri": "https://localhost:8080/"
        },
        "id": "qqbeDcsd994u",
        "outputId": "7d6d86a0-fc39-48bc-ced3-3e48f5d53f18"
      },
      "outputs": [
        {
          "output_type": "execute_result",
          "data": {
            "text/plain": [
              "(364, 1)"
            ]
          },
          "metadata": {},
          "execution_count": 22
        }
      ],
      "source": [
        "y_t.shape"
      ]
    },
    {
      "cell_type": "code",
      "execution_count": null,
      "metadata": {
        "id": "SmJ8RMNdyzOX"
      },
      "outputs": [],
      "source": [
        "#Predicted Trend\n",
        "from re import A\n",
        "import numpy as np\n",
        "import matplotlib.pyplot as plt\n",
        "from scipy.stats import linregress\n",
        "\n",
        "window_size = 7\n",
        "x = [i for i,_ in enumerate(y_t[:,0])]\n",
        "y = y_t[:,0]\n",
        "slope, interpret, r_value, p_value, std_err = [], [], [], [], []\n",
        "for i in range(0, y.shape[0] - window_size):\n",
        "  slope1, interpret1, r_value1, p_value1, std_err1 = linregress(x[i:i+window_size+1], y[i:i+window_size+1])\n",
        "  slope.append(slope1)\n",
        "  interpret.append(interpret1)\n",
        "  r_value.append(r_value1)\n",
        "  p_value.append(p_value1)\n",
        "  std_err.append(std_err1)\n",
        "# slope, interpret, r_value, p_value, std_err = linregress(x[0:50], y[0:50])\n",
        "# print(slope)\n",
        "# slope1, interpret1, r_value1, p_value1, std_err1 = linregress(x[50:100], y[50:100])\n",
        "# slope2, interpret2, r_value2, p_value2, std_err2 = linregress(x[100:150], y[100:150])\n",
        "# slope3, interpret3, r_value3, p_value3, std_err3 = linregress(x[150:200], y[150:200])\n",
        "# slope4, interpret4, r_value4, p_value4, std_err4 = linregress(x[200:250], y[200:250])\n",
        "# slope5, interpret5, r_value5, p_value5, std_err5 = linregress(x[250:300], y[250:300])\n",
        "# slope6, interpret6, r_value6, p_value6, std_err6 = linregress(x[300:350], y[300:350])\n",
        "# slope7, interpret7, r_value7, p_value7, std_err7 = linregress(x[350:], y[350:])"
      ]
    },
    {
      "cell_type": "code",
      "execution_count": null,
      "metadata": {
        "colab": {
          "base_uri": "https://localhost:8080/"
        },
        "id": "Bw5cSNDv9771",
        "outputId": "4216d152-8093-4b66-b8ef-87530cf0f92a"
      },
      "outputs": [
        {
          "data": {
            "text/plain": [
              "(364,)"
            ]
          },
          "execution_count": 22,
          "metadata": {},
          "output_type": "execute_result"
        }
      ],
      "source": [
        "y_actual[:364,0].shape"
      ]
    },
    {
      "cell_type": "code",
      "execution_count": null,
      "metadata": {
        "id": "8_fcOwTgBwNK"
      },
      "outputs": [],
      "source": [
        "#Real Trend\n",
        "from re import A\n",
        "import numpy as np\n",
        "import matplotlib.pyplot as plt\n",
        "from scipy.stats import linregress\n",
        "\n",
        "window_size = 7\n",
        "x1 = [i for i,_ in enumerate(y_actual[:364,0])]\n",
        "y1 = y_actual[:364,0]\n",
        "slope2, interpret2, r_value2, p_value2, std_err2 = [], [], [], [], []\n",
        "for i in range(0, y1.shape[0] - window_size):\n",
        "  slope3, interpret3, r_value3, p_value3, std_err3 = linregress(x1[i:i+window_size+1], y1[i:i+window_size+1])\n",
        "  slope2.append(slope3)\n",
        "  interpret2.append(interpret3)\n",
        "  r_value2.append(r_value3)\n",
        "  p_value2.append(p_value3)\n",
        "  std_err2.append(std_err3)"
      ]
    },
    {
      "cell_type": "code",
      "execution_count": null,
      "metadata": {
        "colab": {
          "base_uri": "https://localhost:8080/"
        },
        "id": "nnnP87t0F6vk",
        "outputId": "28ad638a-1c00-4834-e186-4d50ac90117a"
      },
      "outputs": [
        {
          "output_type": "stream",
          "name": "stdout",
          "text": [
            "(357, 1)\n",
            "(357,)\n",
            "(357,)\n",
            "(364,)\n"
          ]
        }
      ],
      "source": [
        "print(np.array(slope).shape)\n",
        "print(np.array(slope2).shape)\n",
        "print(y_t[:357,0].shape)\n",
        "print(y_actual[:364,0].shape)"
      ]
    },
    {
      "cell_type": "code",
      "execution_count": null,
      "metadata": {
        "colab": {
          "base_uri": "https://localhost:8080/",
          "height": 513
        },
        "id": "L2PZbbWPyyC5",
        "outputId": "e28a4b72-9831-49b8-e151-1cca58e18a87"
      },
      "outputs": [
        {
          "output_type": "display_data",
          "data": {
            "text/plain": [
              "<Figure size 720x576 with 1 Axes>"
            ],
            "image/png": "[encoded data removed]"
          },
          "metadata": {
            "needs_background": "light"
          }
        }
      ],
      "source": [
        "from IPython.display import clear_output\n",
        "plt.figure(figsize=(10,8))\n",
        "plt.plot(y_actual, 'b-')\n",
        "# plt.plot(y_actual, 'b-')\n",
        "plt.plot(y_t, 'r-')\n",
        "for i in range(0, y_t.shape[0] - window_size, window_size):\n",
        "  clear_output(wait=True)\n",
        "  plt.plot(x[i:i+window_size+1], np.asarray(slope[i]) * x[i:i+window_size+1] + np.asarray(interpret[i]), 'g-')\n",
        "for j in range(0, y_actual.shape[0] - window_size - 2, window_size):\n",
        "  clear_output(wait=True)\n",
        "  plt.plot(x1[j:j+window_size+1], np.asarray(slope2[j]) * x1[j:j+window_size+1] + np.asarray(interpret2[j]), 'y')\n",
        "# plt.plot(x[50:100], np.asarray(slope1) * x[50:100] + np.asarray(interpret1), 'g-')\n",
        "# plt.plot(x[100:150], np.asarray(slope2) * x[100:150] + np.asarray(interpret2), 'g-')\n",
        "# plt.plot(x[150:200], np.asarray(slope3) * x[150:200] + np.asarray(interpret3), 'g-')\n",
        "# plt.plot(x[200:250], np.asarray(slope4) * x[200:250] + np.asarray(interpret4), 'g-')\n",
        "# plt.plot(x[250:350], np.asarray(slope5) * x[250:350] + np.asarray(interpret5), 'g-')\n",
        "# plt.plot(x[300:350], np.asarray(slope6) * x[300:350] + np.asarray(interpret6), 'g-')\n",
        "# plt.plot(x[350:], np.asarray(slope7) * x[350:] + np.asarray(interpret7), 'g-')\n",
        "# plt.xticks(np.arange(0,num_test,50))\n",
        "plt.title('Trend Prediction')\n",
        "plt.xlabel('Time')\n",
        "plt.ylabel('Price')\n",
        "plt.legend(['Real Stock Price Close','Predicted Stock Price','Trend Prediction for Predicted Stock Price', 'Trend Prediction for Real Stock Price Close'],loc='best')\n",
        "plt.show()"
      ]
    },
    {
      "cell_type": "code",
      "execution_count": null,
      "metadata": {
        "colab": {
          "base_uri": "https://localhost:8080/"
        },
        "id": "QTbdIDjXBulx",
        "outputId": "46fe8497-75fe-4739-fa81-fe48e4a093ce"
      },
      "outputs": [
        {
          "output_type": "stream",
          "name": "stdout",
          "text": [
            "Looking in indexes: https://pypi.org/simple, https://us-python.pkg.dev/colab-wheels/public/simple/\n",
            "Collecting pytorch_model_summary\n",
            "  Downloading pytorch_model_summary-0.1.2-py3-none-any.whl (9.3 kB)\n",
            "Requirement already satisfied: tqdm in /usr/local/lib/python3.7/dist-packages (from pytorch_model_summary) (4.64.0)\n",
            "Requirement already satisfied: torch in /usr/local/lib/python3.7/dist-packages (from pytorch_model_summary) (1.12.0+cu113)\n",
            "Requirement already satisfied: numpy in /usr/local/lib/python3.7/dist-packages (from pytorch_model_summary) (1.21.6)\n",
            "Requirement already satisfied: typing-extensions in /usr/local/lib/python3.7/dist-packages (from torch->pytorch_model_summary) (4.1.1)\n",
            "Installing collected packages: pytorch-model-summary\n",
            "Successfully installed pytorch-model-summary-0.1.2\n"
          ]
        }
      ],
      "source": [
        "!pip install pytorch_model_summary"
      ]
    },
    {
      "cell_type": "code",
      "execution_count": null,
      "metadata": {
        "colab": {
          "base_uri": "https://localhost:8080/"
        },
        "id": "z5RvNUmS9VE0",
        "outputId": "f9aca0a4-6a15-4598-df32-3412b1f042d3"
      },
      "outputs": [
        {
          "output_type": "execute_result",
          "data": {
            "text/plain": [
              "(364, 1)"
            ]
          },
          "metadata": {},
          "execution_count": 26
        }
      ],
      "source": [
        "testing_set[:364].shape"
      ]
    },
    {
      "cell_type": "code",
      "execution_count": null,
      "metadata": {
        "colab": {
          "base_uri": "https://localhost:8080/"
        },
        "id": "xPv8kti7JNa-",
        "outputId": "7def4994-865a-4746-e415-5bd5f11859ea"
      },
      "outputs": [
        {
          "output_type": "execute_result",
          "data": {
            "text/plain": [
              "(357, 1)"
            ]
          },
          "metadata": {},
          "execution_count": 23
        }
      ],
      "source": [
        "predicted_stock_price[675:].shape"
      ]
    },
    {
      "cell_type": "code",
      "execution_count": null,
      "metadata": {
        "id": "lbU2W75KIXy-"
      },
      "outputs": [],
      "source": [
        "slope = np.array(slope)\n",
        "slope = np.reshape(slope, (-1,1))\n",
        "error_stock_price = predicted_stock_price[669:] - testing_set[:357]\n",
        "state_size = np.append(slope, error_stock_price)\n",
        "state = state_size.reshape(357,2)"
      ]
    },
    {
      "cell_type": "code",
      "execution_count": null,
      "metadata": {
        "id": "tURODkhEbdl_"
      },
      "outputs": [],
      "source": [
        "slope = np.array(slope)\n",
        "slope = np.reshape(slope, (-1,1))\n",
        "print(slope.shape)\n",
        "print(testing_set[:357].shape)\n",
        "print(predicted_stock_price[675:].shape)\n",
        "error_stock_price = predicted_stock_price[675:] - testing_set[:357]\n",
        "state_size = np.append(slope, error_stock_price)\n",
        "state = state_size.reshape(357,2)\n",
        "print(state[356])\n",
        "# predicted_stock_price1 = np.reshape(predicted_stock_price[670:,0], (362,1))\n",
        "# print(predicted_stock_price1.shape)\n",
        "# error_stock_price = predicted_stock_price[670:,0] - testing_set[:362]"
      ]
    },
    {
      "cell_type": "code",
      "execution_count": null,
      "metadata": {
        "id": "okSDT1sy_HTr"
      },
      "outputs": [],
      "source": [
        "slope = np.array(slope)\n",
        "slope = np.reshape(slope, (-1,1))\n",
        "error_stock_price = predicted_stock_price[675:] - testing_set[:357]\n",
        "state_size = np.append(slope, error_stock_price)\n",
        "state = state_size.reshape(357,2)\n",
        "print(state.shape)\n",
        "#Real Slope\n",
        "slope2 = np.array(slope2)\n",
        "slope2 = np.reshape(slope2, (-1,1))\n",
        "state_size_actual = np.append(slope2, error_stock_price)\n",
        "state_actual = state_size_actual.reshape(357,2)\n",
        "print(state_actual.shape)"
      ]
    },
    {
      "cell_type": "code",
      "execution_count": null,
      "metadata": {
        "id": "JStYGxy7MU32"
      },
      "outputs": [],
      "source": [
        "!CUDA_LAUNCH_BLOCKING=1"
      ]
    },
    {
      "cell_type": "code",
      "execution_count": null,
      "metadata": {
        "id": "E01r9PrpMdJQ"
      },
      "outputs": [],
      "source": [
        "import os\n",
        "os.environ['CUDA_LAUNCH_BLOCKING'] = \"1\""
      ]
    },
    {
      "cell_type": "code",
      "execution_count": null,
      "metadata": {
        "id": "dgQwo3y-C3Yu",
        "colab": {
          "base_uri": "https://localhost:8080/",
          "height": 1000
        },
        "outputId": "6143ae22-03f0-4ef7-d200-5746bb90a72b"
      },
      "outputs": [
        {
          "output_type": "stream",
          "name": "stdout",
          "text": [
            "+-----------+-----------+----------+----------+-------------------+\n",
            "| Episode   |   Epsilon | Action   |   Reward | Accuracy Reward   |\n",
            "|-----------+-----------+----------+----------+-------------------|\n",
            "| 16/100    |      0.01 | Buy      |  67.6906 | 8.61 %            |\n",
            "+-----------+-----------+----------+----------+-------------------+\n"
          ]
        },
        {
          "output_type": "display_data",
          "data": {
            "text/plain": [
              "<Figure size 2160x1080 with 4 Axes>"
            ],
            "image/png": "[encoded data removed]"
          },
          "metadata": {
            "needs_background": "light"
          }
        },
        {
          "output_type": "error",
          "ename": "KeyboardInterrupt",
          "evalue": "ignored",
          "traceback": [
            "\u001b[0;31m---------------------------------------------------------------------------\u001b[0m",
            "\u001b[0;31mKeyboardInterrupt\u001b[0m                         Traceback (most recent call last)",
            "\u001b[0;32m<ipython-input-31-ef2fbafe04a8>\u001b[0m in \u001b[0;36m<module>\u001b[0;34m()\u001b[0m\n\u001b[1;32m    212\u001b[0m           \u001b[0magent\u001b[0m\u001b[0;34m.\u001b[0m\u001b[0mstore_transition\u001b[0m\u001b[0;34m(\u001b[0m\u001b[0mobservation\u001b[0m\u001b[0;34m,\u001b[0m \u001b[0maction\u001b[0m\u001b[0;34m,\u001b[0m \u001b[0mreward\u001b[0m\u001b[0;34m,\u001b[0m \u001b[0mobservation_\u001b[0m\u001b[0;34m,\u001b[0m \u001b[0mdone\u001b[0m\u001b[0;34m)\u001b[0m\u001b[0;34m\u001b[0m\u001b[0;34m\u001b[0m\u001b[0m\n\u001b[1;32m    213\u001b[0m           \u001b[0magent\u001b[0m\u001b[0;34m.\u001b[0m\u001b[0mstore_transition\u001b[0m\u001b[0;34m(\u001b[0m\u001b[0mobservation_actual\u001b[0m\u001b[0;34m,\u001b[0m \u001b[0maction_actual\u001b[0m\u001b[0;34m,\u001b[0m \u001b[0mreward\u001b[0m\u001b[0;34m,\u001b[0m \u001b[0mobservation_actual_\u001b[0m\u001b[0;34m,\u001b[0m \u001b[0mdone\u001b[0m\u001b[0;34m)\u001b[0m\u001b[0;34m\u001b[0m\u001b[0;34m\u001b[0m\u001b[0m\n\u001b[0;32m--> 214\u001b[0;31m           \u001b[0magent\u001b[0m\u001b[0;34m.\u001b[0m\u001b[0mlearn\u001b[0m\u001b[0;34m(\u001b[0m\u001b[0;34m)\u001b[0m\u001b[0;34m\u001b[0m\u001b[0;34m\u001b[0m\u001b[0m\n\u001b[0m\u001b[1;32m    215\u001b[0m           \u001b[0mobservation\u001b[0m \u001b[0;34m=\u001b[0m \u001b[0mobservation_\u001b[0m\u001b[0;34m\u001b[0m\u001b[0;34m\u001b[0m\u001b[0m\n\u001b[1;32m    216\u001b[0m           \u001b[0mobservation_actual\u001b[0m \u001b[0;34m=\u001b[0m \u001b[0mobservation_actual_\u001b[0m\u001b[0;34m\u001b[0m\u001b[0;34m\u001b[0m\u001b[0m\n",
            "\u001b[0;32m<ipython-input-31-ef2fbafe04a8>\u001b[0m in \u001b[0;36mlearn\u001b[0;34m(self)\u001b[0m\n\u001b[1;32m    141\u001b[0m \u001b[0;34m\u001b[0m\u001b[0m\n\u001b[1;32m    142\u001b[0m         \u001b[0mq_eval\u001b[0m \u001b[0;34m=\u001b[0m \u001b[0mself\u001b[0m\u001b[0;34m.\u001b[0m\u001b[0mQ_eval\u001b[0m\u001b[0;34m.\u001b[0m\u001b[0mforward\u001b[0m\u001b[0;34m(\u001b[0m\u001b[0mstate_batch\u001b[0m\u001b[0;34m)\u001b[0m\u001b[0;34m[\u001b[0m\u001b[0mbatch_index\u001b[0m\u001b[0;34m,\u001b[0m \u001b[0maction_batch\u001b[0m\u001b[0;34m]\u001b[0m\u001b[0;34m\u001b[0m\u001b[0;34m\u001b[0m\u001b[0m\n\u001b[0;32m--> 143\u001b[0;31m         \u001b[0mq_next\u001b[0m \u001b[0;34m=\u001b[0m \u001b[0mself\u001b[0m\u001b[0;34m.\u001b[0m\u001b[0mQ_eval\u001b[0m\u001b[0;34m.\u001b[0m\u001b[0mforward\u001b[0m\u001b[0;34m(\u001b[0m\u001b[0mnew_state_batch\u001b[0m\u001b[0;34m)\u001b[0m\u001b[0;34m\u001b[0m\u001b[0;34m\u001b[0m\u001b[0m\n\u001b[0m\u001b[1;32m    144\u001b[0m         \u001b[0mq_next\u001b[0m\u001b[0;34m[\u001b[0m\u001b[0mterminal_batch\u001b[0m\u001b[0;34m]\u001b[0m \u001b[0;34m=\u001b[0m \u001b[0;36m0.0\u001b[0m\u001b[0;34m\u001b[0m\u001b[0;34m\u001b[0m\u001b[0m\n\u001b[1;32m    145\u001b[0m         \u001b[0mq_target\u001b[0m \u001b[0;34m=\u001b[0m \u001b[0mreward_batch\u001b[0m \u001b[0;34m+\u001b[0m \u001b[0mself\u001b[0m\u001b[0;34m.\u001b[0m\u001b[0mgamma\u001b[0m \u001b[0;34m*\u001b[0m \u001b[0mT\u001b[0m\u001b[0;34m.\u001b[0m\u001b[0mmax\u001b[0m\u001b[0;34m(\u001b[0m\u001b[0mq_next\u001b[0m\u001b[0;34m,\u001b[0m \u001b[0mdim\u001b[0m\u001b[0;34m=\u001b[0m\u001b[0;36m1\u001b[0m\u001b[0;34m)\u001b[0m\u001b[0;34m[\u001b[0m\u001b[0;36m0\u001b[0m\u001b[0;34m]\u001b[0m\u001b[0;34m\u001b[0m\u001b[0;34m\u001b[0m\u001b[0m\n",
            "\u001b[0;32m<ipython-input-31-ef2fbafe04a8>\u001b[0m in \u001b[0;36mforward\u001b[0;34m(self, x)\u001b[0m\n\u001b[1;32m     63\u001b[0m     \u001b[0;32mdef\u001b[0m \u001b[0mforward\u001b[0m\u001b[0;34m(\u001b[0m\u001b[0mself\u001b[0m\u001b[0;34m,\u001b[0m \u001b[0mx\u001b[0m\u001b[0;34m)\u001b[0m\u001b[0;34m:\u001b[0m\u001b[0;34m\u001b[0m\u001b[0;34m\u001b[0m\u001b[0m\n\u001b[1;32m     64\u001b[0m         \u001b[0mx\u001b[0m \u001b[0;34m=\u001b[0m \u001b[0mF\u001b[0m\u001b[0;34m.\u001b[0m\u001b[0mrelu\u001b[0m\u001b[0;34m(\u001b[0m\u001b[0mself\u001b[0m\u001b[0;34m.\u001b[0m\u001b[0mfc1\u001b[0m\u001b[0;34m(\u001b[0m\u001b[0mx\u001b[0m\u001b[0;34m)\u001b[0m\u001b[0;34m)\u001b[0m\u001b[0;34m\u001b[0m\u001b[0;34m\u001b[0m\u001b[0m\n\u001b[0;32m---> 65\u001b[0;31m         \u001b[0mx\u001b[0m \u001b[0;34m=\u001b[0m \u001b[0mF\u001b[0m\u001b[0;34m.\u001b[0m\u001b[0mrelu\u001b[0m\u001b[0;34m(\u001b[0m\u001b[0mself\u001b[0m\u001b[0;34m.\u001b[0m\u001b[0mfc2\u001b[0m\u001b[0;34m(\u001b[0m\u001b[0mx\u001b[0m\u001b[0;34m)\u001b[0m\u001b[0;34m)\u001b[0m\u001b[0;34m\u001b[0m\u001b[0;34m\u001b[0m\u001b[0m\n\u001b[0m\u001b[1;32m     66\u001b[0m         \u001b[0mactions\u001b[0m \u001b[0;34m=\u001b[0m \u001b[0mself\u001b[0m\u001b[0;34m.\u001b[0m\u001b[0mfc3\u001b[0m\u001b[0;34m(\u001b[0m\u001b[0mx\u001b[0m\u001b[0;34m)\u001b[0m\u001b[0;34m\u001b[0m\u001b[0;34m\u001b[0m\u001b[0m\n\u001b[1;32m     67\u001b[0m \u001b[0;34m\u001b[0m\u001b[0m\n",
            "\u001b[0;32m/usr/local/lib/python3.7/dist-packages/torch/nn/functional.py\u001b[0m in \u001b[0;36mrelu\u001b[0;34m(input, inplace)\u001b[0m\n\u001b[1;32m   1455\u001b[0m         \u001b[0mresult\u001b[0m \u001b[0;34m=\u001b[0m \u001b[0mtorch\u001b[0m\u001b[0;34m.\u001b[0m\u001b[0mrelu_\u001b[0m\u001b[0;34m(\u001b[0m\u001b[0minput\u001b[0m\u001b[0;34m)\u001b[0m\u001b[0;34m\u001b[0m\u001b[0;34m\u001b[0m\u001b[0m\n\u001b[1;32m   1456\u001b[0m     \u001b[0;32melse\u001b[0m\u001b[0;34m:\u001b[0m\u001b[0;34m\u001b[0m\u001b[0;34m\u001b[0m\u001b[0m\n\u001b[0;32m-> 1457\u001b[0;31m         \u001b[0mresult\u001b[0m \u001b[0;34m=\u001b[0m \u001b[0mtorch\u001b[0m\u001b[0;34m.\u001b[0m\u001b[0mrelu\u001b[0m\u001b[0;34m(\u001b[0m\u001b[0minput\u001b[0m\u001b[0;34m)\u001b[0m\u001b[0;34m\u001b[0m\u001b[0;34m\u001b[0m\u001b[0m\n\u001b[0m\u001b[1;32m   1458\u001b[0m     \u001b[0;32mreturn\u001b[0m \u001b[0mresult\u001b[0m\u001b[0;34m\u001b[0m\u001b[0;34m\u001b[0m\u001b[0m\n\u001b[1;32m   1459\u001b[0m \u001b[0;34m\u001b[0m\u001b[0m\n",
            "\u001b[0;31mKeyboardInterrupt\u001b[0m: "
          ]
        }
      ],
      "source": [
        "import torch\n",
        "import torch as T\n",
        "import torch.nn as nn\n",
        "import torch.nn.functional as F\n",
        "import torch.optim as optim\n",
        "import gym\n",
        "import matplotlib.pyplot as plt\n",
        "from gym import wrappers\n",
        "import numpy as np\n",
        "import pytorch_model_summary as pms\n",
        "from IPython.display import clear_output\n",
        "from tabulate import tabulate\n",
        "def plotLearning(x, scores, epsilons, filename, lines=None):\n",
        "    fig = plt.figure()\n",
        "    ax = fig.add_subplot(111, label=\"1\")\n",
        "    ax2 = fig.add_subplot(111, label=\"2\", frame_on=False)\n",
        "\n",
        "    ax.plot(x, epsilons, color=\"C0\")\n",
        "    ax.set_xlabel(\"Day\", color=\"C0\")\n",
        "    ax.set_ylabel(\"Epsilon\", color=\"C0\")\n",
        "    ax.tick_params(axis='x', colors=\"C0\")\n",
        "    ax.tick_params(axis='y', colors=\"C0\")\n",
        "\n",
        "    N = len(scores)\n",
        "    running_avg = np.empty(N)\n",
        "    for t in range(N):\n",
        "        running_avg[t] = np.mean(scores[max(0, t - 20):(t + 1)])\n",
        "    ax2.scatter(x, running_avg, color=\"C1\")\n",
        "    # ax2.xaxis.tick_top()\n",
        "    ax2.axes.get_xaxis().set_visible(False)\n",
        "    ax2.yaxis.tick_right()\n",
        "    # ax2.set_xlabel('x label 2', color=\"C1\")\n",
        "    ax2.set_ylabel('Score', color=\"C1\")\n",
        "    # ax2.xaxis.set_label_position('top')\n",
        "    ax2.yaxis.set_label_position('right')\n",
        "    # ax2.tick_params(axis='x', colors=\"C1\")\n",
        "    ax2.tick_params(axis='y', colors=\"C1\")\n",
        "\n",
        "    if lines is not None:\n",
        "        for line in lines:\n",
        "            plt.axvline(x=line)\n",
        "\n",
        "    plt.savefig(filename)\n",
        "\n",
        "\n",
        "class DeepQNetwork(nn.Module):\n",
        "    def __init__(self, lr, input_dims, fc1_dims, fc2_dims,\n",
        "                 n_actions):\n",
        "        super(DeepQNetwork, self).__init__()\n",
        "        self.input_dims = input_dims\n",
        "        self.fc1_dims = fc1_dims\n",
        "        self.fc2_dims = fc2_dims\n",
        "        self.n_actions = n_actions\n",
        "        self.fc1 = nn.Linear(*self.input_dims, self.fc1_dims)\n",
        "        self.fc2 = nn.Linear(self.fc1_dims, self.fc2_dims)\n",
        "        self.fc3 = nn.Linear(self.fc2_dims, self.n_actions)\n",
        "\n",
        "        self.optimizer = optim.Adam(self.parameters(), lr=lr)\n",
        "        self.loss = nn.MSELoss()\n",
        "        self.device = T.device('cuda:0' if T.cuda.is_available() else 'cpu')\n",
        "        self.to(self.device)\n",
        "\n",
        "    def forward(self, x):\n",
        "        x = F.relu(self.fc1(x))\n",
        "        x = F.relu(self.fc2(x))\n",
        "        actions = self.fc3(x)\n",
        "\n",
        "        return actions\n",
        "\n",
        "\n",
        "class Agent:\n",
        "    def __init__(self, gamma, epsilon, lr, input_dims, batch_size, n_actions, open_price_real, close_price_predicted,\n",
        "                 max_mem_size=100000, eps_end=0.05, eps_dec=5e-4):\n",
        "        self.gamma = gamma\n",
        "        self.epsilon = epsilon\n",
        "        self.eps_min = eps_end\n",
        "        self.eps_dec = eps_dec\n",
        "        self.lr = lr\n",
        "        self.action_space = [i for i in range(n_actions)]\n",
        "        self.mem_size = max_mem_size\n",
        "        self.batch_size = batch_size\n",
        "        self.CRV = 100\n",
        "        self.mem_cntr = 0\n",
        "        self.iter_cntr = 0\n",
        "        self.replace_target = 100\n",
        "        self.open_price_real = open_price_real\n",
        "        self.close_price_predicted = close_price_predicted\n",
        "        self.Q_eval = DeepQNetwork(lr, n_actions=n_actions,\n",
        "                                   input_dims=input_dims,\n",
        "                                   fc1_dims=256, fc2_dims=128)\n",
        "        self.state_memory = np.zeros((self.mem_size, *input_dims),\n",
        "                                     dtype=np.float32)\n",
        "        self.new_state_memory = np.zeros((self.mem_size, *input_dims),\n",
        "                                         dtype=np.float32)\n",
        "        self.action_memory = np.zeros(self.mem_size, dtype=np.int32)\n",
        "        self.reward_memory = np.zeros(self.mem_size, dtype=np.float32)\n",
        "        self.terminal_memory = np.zeros(self.mem_size, dtype=np.bool)\n",
        "        self.q_value_store = []\n",
        "    def store_transition(self, state, action, reward, state_, terminal):\n",
        "        index = self.mem_cntr % self.mem_size\n",
        "        self.state_memory[index] = state\n",
        "        self.new_state_memory[index] = state_\n",
        "        self.reward_memory[index] = reward\n",
        "        self.action_memory[index] = action\n",
        "        self.terminal_memory[index] = terminal\n",
        "        self.mem_cntr += 1\n",
        "\n",
        "    def choose_action(self, observation):\n",
        "        if np.random.random() > self.epsilon:\n",
        "            state = T.tensor([observation.tolist()]).to(self.Q_eval.device)\n",
        "            actions = self.Q_eval.forward(state)\n",
        "            action = T.argmax(actions).item()\n",
        "        else:\n",
        "            action = np.random.choice(self.action_space)\n",
        "\n",
        "        return action\n",
        "    def Ns(self):\n",
        "        return np.round(self.CRV / self.open_price_real)\n",
        "    def TP(self):\n",
        "        return 0.5*np.abs(self.close_price_predicted - self.open_price_real) * self.Ns\n",
        "\n",
        "    def learn(self):\n",
        "        if self.mem_cntr < self.batch_size:\n",
        "            return\n",
        "\n",
        "        self.Q_eval.optimizer.zero_grad()\n",
        "\n",
        "        max_mem = min(self.mem_cntr, self.mem_size)\n",
        "\n",
        "        batch = np.random.choice(max_mem, self.batch_size, replace=False)\n",
        "        batch_index = np.arange(self.batch_size, dtype=np.int32)\n",
        "\n",
        "        state_batch = T.tensor(self.state_memory[batch]).to(self.Q_eval.device)\n",
        "        new_state_batch = T.tensor(\n",
        "            self.new_state_memory[batch]).to(self.Q_eval.device)\n",
        "        action_batch = self.action_memory[batch]\n",
        "        reward_batch = T.tensor(\n",
        "            self.reward_memory[batch]).to(self.Q_eval.device)\n",
        "        terminal_batch = T.tensor(\n",
        "            self.terminal_memory[batch]).to(self.Q_eval.device)\n",
        "\n",
        "        q_eval = self.Q_eval.forward(state_batch)[batch_index, action_batch]\n",
        "        q_next = self.Q_eval.forward(new_state_batch)\n",
        "        q_next[terminal_batch] = 0.0\n",
        "        q_target = reward_batch + self.gamma * T.max(q_next, dim=1)[0]\n",
        "        self.q_value_store.append(q_target.mean())\n",
        "        loss = self.Q_eval.loss(q_target, q_eval).to(self.Q_eval.device)\n",
        "        loss.backward()\n",
        "        self.Q_eval.optimizer.step()\n",
        "\n",
        "        self.iter_cntr += 1\n",
        "        self.epsilon = self.epsilon - self.eps_dec \\\n",
        "            if self.epsilon > self.eps_min else self.eps_min\n",
        "def sigmoid(x):\n",
        "  return 1/(1+np.exp(-x))\n",
        "def softmax_stable(Z):\n",
        "    e_Z = np.exp(Z - np.max(Z, axis = 0, keepdims = True))\n",
        "    A = e_Z / e_Z.sum(axis = 0)\n",
        "    return A\n",
        "if __name__ == '__main__':\n",
        "    device = torch.device('cuda:0' if torch.cuda.is_available() else 'cpu')\n",
        "    open_price_real = df.filter(['Open']).values\n",
        "    open_price_real[:357].reshape(357,)\n",
        "    close_price_predicted = predicted_stock_price[:,0]\n",
        "    # env = gym.make('LunarLander-v2')\n",
        "    model = DeepQNetwork(lr=1e-3, n_actions=3, input_dims=[2], fc1_dims=128, fc2_dims=128)\n",
        "    print(\"=========================DEEP O-NETWORK PARAMETERS==========================\")\n",
        "    pms.summary(model, torch.zeros([1, 2], device=device), show_input=False, show_hierarchical=True, print_summary=True)\n",
        "    print(\"============================================================================\")\n",
        "    agent = Agent(gamma=0.99, epsilon=1.0, batch_size=64, n_actions=3, eps_end=0.01,\n",
        "                  input_dims=[2], lr=1e-6, open_price_real = open_price_real, close_price_predicted = close_price_predicted)\n",
        "    scores, eps_history = [], []\n",
        "    episode_count = 100\n",
        "    #Predicted Slope\n",
        "    slope = np.array(slope)\n",
        "    slope = np.reshape(slope, (-1,1))\n",
        "    error_stock_price = predicted_stock_price[675:] - testing_set[:357]\n",
        "    state_size = np.append(slope, y_t[:357,0])\n",
        "    state = state_size.reshape(357,2)\n",
        "    #Real Slope\n",
        "    slope2 = np.array(slope2)\n",
        "    slope2 = np.reshape(slope2, (-1,1))\n",
        "    state_size_actual = np.append(slope2, testing_set[:357])\n",
        "    state_actual = state_size_actual.reshape(357,2)\n",
        "    #Initialize data\n",
        "    action_data_test = []\n",
        "    action_store = []\n",
        "    q_value_store = []\n",
        "    num_correct = 0\n",
        "    accuracy = []\n",
        "    reward_store = []\n",
        "    num_correct_store = []\n",
        "    reward_total = 0\n",
        "    reward_arr = []\n",
        "    num_correct_reward = 0\n",
        "    for i in range(episode_count):\n",
        "      score = 0\n",
        "      done = False\n",
        "      observation = state[0]\n",
        "      observation_actual = state_actual[0]\n",
        "      j=0\n",
        "      while not done:\n",
        "          action = agent.choose_action(observation)\n",
        "          action_actual = agent.choose_action(observation_actual)\n",
        "          observation_ = state[j+1]\n",
        "          observation_actual_ = state_actual[j+1]\n",
        "          #Take profit\n",
        "          Ns = np.round(100 / open_price_real[0])\n",
        "          reward = 0.5 * np.abs(close_price_predicted[i] - open_price_real[0]) * Ns\n",
        "          num_correct = action==action_actual #one-hot technique\n",
        "          num_correct_store.append(num_correct)\n",
        "          done = False\n",
        "          agent.store_transition(observation, action, reward, observation_, done)\n",
        "          agent.store_transition(observation_actual, action_actual, reward, observation_actual_, done)\n",
        "          agent.learn()          \n",
        "          observation = observation_\n",
        "          observation_actual = observation_actual_\n",
        "          reward_total += reward.mean()\n",
        "          # reward_arr.append(reward)\n",
        "          j = j + 1\n",
        "          if j >= 356:\n",
        "              done = True\n",
        "              # reward = reward.mean()\n",
        "      reward_arr.append(reward_total)\n",
        "      reward_store.append(reward)\n",
        "      # num_correct_reward = max(reward_store)[0] / reward_total\n",
        "      num_correct_reward = max(reward_store)[0] / np.sum(reward_store)\n",
        "      # num_correct = np.sum(num_correct_store) / len(num_correct_store)\n",
        "      # num_correct = np.max(num_correct, 0)\n",
        "      q_value_store.append(agent.epsilon)\n",
        "      # reward = float(reward[0])\n",
        "      # reward_store.append(reward)\n",
        "      # reward = (reward_store[i] + reward_store[i+1]) / 2\n",
        "      clear_output(wait=True)\n",
        "      table = ['Episode', 'Epsilon', 'Action', 'Reward', 'Accuracy Reward']\n",
        "      if action == 1:\n",
        "          headers = [[str(i+1) + \"/\" + str(episode_count), agent.epsilon, 'Buy', reward, '{:.2f}'.format(num_correct_reward*100) + \" %\"]]\n",
        "      elif action == 2:\n",
        "          headers = [[str(i+1) + \"/\" + str(episode_count), agent.epsilon, 'Sell', reward, '{:.2f}'.format(num_correct_reward*100) + \" %\"]]\n",
        "      else:\n",
        "          headers = [[str(i+1) + \"/\" + str(episode_count), agent.epsilon, 'Hold', reward, '{:.2f}'.format(num_correct_reward*100) + \" %\"]]\n",
        "      print(tabulate(headers, table, tablefmt=\"psql\"))\n",
        "      accuracy.append(num_correct_reward)\n",
        "      # reward_store.append(reward)\n",
        "      action_store.append(action)\n",
        "      fig, axes = plt.subplots(2, 2,figsize=(30,15))\n",
        "      axes[0,0].plot([i for i,_ in enumerate(accuracy)], accuracy, 'go')\n",
        "      axes[0,0].set_title(\"Tested Action\")\n",
        "      axes[0,0].set_xlabel(\"Episode\")\n",
        "      axes[0,0].set_ylabel(\"Accuracy\")\n",
        "      axes[0,1].plot([i for i,_ in enumerate(q_value_store)], q_value_store, 'r-')\n",
        "      axes[0,1].set_title(\"Epsilon Fluctuation\")\n",
        "      axes[0,1].set_xlabel(\"Episode\")\n",
        "      axes[0,1].set_ylabel(\"Epsilon\")\n",
        "      axes[1,0].plot([i for i,_ in enumerate(reward_store)], reward_store, 'm-', marker='^')\n",
        "      axes[1,0].set_title(\"Profit\")\n",
        "      axes[1,0].set_xlabel(\"Episode\")\n",
        "      axes[1,0].set_ylabel(\"Reward\")\n",
        "      axes[1,1].plot([i for i,_ in enumerate(reward_store)], reward_store, 'm-')\n",
        "      if action_store[i] == 1:\n",
        "        axes[1,1].plot(i, reward,marker='>', markerfacecolor = 'r',label='Buy',markersize=12)\n",
        "      elif action_store[i] == 2:\n",
        "        axes[1,1].plot(i, reward,marker='<', markerfacecolor='g', label='Sell',markersize=12)\n",
        "      else:\n",
        "        axes[1,1].plot(i, reward,marker='o', markerfacecolor='k', label='Hold',markersize=12)\n",
        "      axes[1,1].set_title(\"Profit and Predicted Action\")\n",
        "      axes[1,1].set_xlabel(\"Episode\")\n",
        "      axes[1,1].set_ylabel(\"Reward\")\n",
        "      axes[1,1].legend(loc='best')\n",
        "      axes = axes.flatten()\n",
        "      plt.show()\n",
        "    filename = '/content/reward.png'\n",
        "    plt.savefig(filename)\n",
        "    torch.save(model.state_dict(), '/content/my_checkpoint.h5')\n",
        "    # plotLearning(x, scores, eps_history, filename)"
      ]
    },
    {
      "cell_type": "code",
      "execution_count": null,
      "metadata": {
        "id": "Q808rSN4h4Yj",
        "colab": {
          "base_uri": "https://localhost:8080/",
          "height": 1000
        },
        "outputId": "4a5229a2-c5e4-4efd-e568-991ecaaa318d"
      },
      "outputs": [
        {
          "output_type": "stream",
          "name": "stderr",
          "text": [
            "WARNING:matplotlib.legend:No handles with labels found to put in legend.\n"
          ]
        },
        {
          "output_type": "stream",
          "name": "stdout",
          "text": [
            "+-----------+-----------+----------+----------+-------------------+\n",
            "| Episode   |   Epsilon | Action   |   Reward | Accuracy Action   |\n",
            "|-----------+-----------+----------+----------+-------------------|\n",
            "| 100/100   |      0.01 | Buy      |  82.4381 | 79.71 %           |\n",
            "+-----------+-----------+----------+----------+-------------------+\n"
          ]
        },
        {
          "output_type": "display_data",
          "data": {
            "text/plain": [
              "<Figure size 720x576 with 1 Axes>"
            ],
            "image/png": "[encoded data removed]"
          },
          "metadata": {
            "needs_background": "light"
          }
        },
        {
          "output_type": "display_data",
          "data": {
            "text/plain": [
              "<Figure size 720x576 with 1 Axes>"
            ],
            "image/png": "[encoded data removed]"
          },
          "metadata": {
            "needs_background": "light"
          }
        },
        {
          "output_type": "display_data",
          "data": {
            "text/plain": [
              "<Figure size 720x576 with 1 Axes>"
            ],
            "image/png": "[encoded data removed]"
          },
          "metadata": {
            "needs_background": "light"
          }
        },
        {
          "output_type": "display_data",
          "data": {
            "text/plain": [
              "<Figure size 432x288 with 0 Axes>"
            ]
          },
          "metadata": {}
        }
      ],
      "source": [
        "import torch\n",
        "import torch as T\n",
        "import torch.nn as nn\n",
        "import torch.nn.functional as F\n",
        "import torch.optim as optim\n",
        "import gym\n",
        "import matplotlib.pyplot as plt\n",
        "from gym import wrappers\n",
        "import numpy as np\n",
        "import pytorch_model_summary as pms\n",
        "from IPython.display import clear_output\n",
        "from tabulate import tabulate\n",
        "def plotLearning(x, scores, epsilons, filename, lines=None):\n",
        "    fig = plt.figure()\n",
        "    ax = fig.add_subplot(111, label=\"1\")\n",
        "    ax2 = fig.add_subplot(111, label=\"2\", frame_on=False)\n",
        "\n",
        "    ax.plot(x, epsilons, color=\"C0\")\n",
        "    ax.set_xlabel(\"Day\", color=\"C0\")\n",
        "    ax.set_ylabel(\"Epsilon\", color=\"C0\")\n",
        "    ax.tick_params(axis='x', colors=\"C0\")\n",
        "    ax.tick_params(axis='y', colors=\"C0\")\n",
        "\n",
        "    N = len(scores)\n",
        "    running_avg = np.empty(N)\n",
        "    for t in range(N):\n",
        "        running_avg[t] = np.mean(scores[max(0, t - 20):(t + 1)])\n",
        "    ax2.scatter(x, running_avg, color=\"C1\")\n",
        "    # ax2.xaxis.tick_top()\n",
        "    ax2.axes.get_xaxis().set_visible(False)\n",
        "    ax2.yaxis.tick_right()\n",
        "    # ax2.set_xlabel('x label 2', color=\"C1\")\n",
        "    ax2.set_ylabel('Score', color=\"C1\")\n",
        "    # ax2.xaxis.set_label_position('top')\n",
        "    ax2.yaxis.set_label_position('right')\n",
        "    # ax2.tick_params(axis='x', colors=\"C1\")\n",
        "    ax2.tick_params(axis='y', colors=\"C1\")\n",
        "\n",
        "    if lines is not None:\n",
        "        for line in lines:\n",
        "            plt.axvline(x=line)\n",
        "\n",
        "    plt.savefig(filename)\n",
        "\n",
        "\n",
        "class DeepQNetwork(nn.Module):\n",
        "    def __init__(self, lr, input_dims, fc1_dims, fc2_dims,\n",
        "                 n_actions):\n",
        "        super(DeepQNetwork, self).__init__()\n",
        "        self.input_dims = input_dims\n",
        "        self.fc1_dims = fc1_dims\n",
        "        self.fc2_dims = fc2_dims\n",
        "        self.n_actions = n_actions\n",
        "        self.fc1 = nn.Linear(*self.input_dims, self.fc1_dims)\n",
        "        self.fc2 = nn.Linear(self.fc1_dims, self.fc2_dims)\n",
        "        self.fc3 = nn.Linear(self.fc2_dims, self.n_actions)\n",
        "\n",
        "        self.optimizer = optim.Adam(self.parameters(), lr=lr)\n",
        "        self.loss = nn.MSELoss()\n",
        "        self.device = T.device('cuda:0' if T.cuda.is_available() else 'cpu')\n",
        "        self.to(self.device)\n",
        "\n",
        "    def forward(self, x):\n",
        "        x = F.relu(self.fc1(x))\n",
        "        x = F.relu(self.fc2(x))\n",
        "        actions = self.fc3(x)\n",
        "\n",
        "        return actions\n",
        "\n",
        "\n",
        "class Agent:\n",
        "    def __init__(self, gamma, epsilon, lr, input_dims, batch_size, n_actions, open_price_real, close_price_predicted,\n",
        "                 max_mem_size=100000, eps_end=0.01, eps_dec=5e-4):\n",
        "        self.gamma = gamma\n",
        "        self.epsilon = epsilon\n",
        "        self.eps_min = eps_end\n",
        "        self.eps_dec = eps_dec\n",
        "        self.lr = lr\n",
        "        self.action_space = [i for i in range(n_actions)]\n",
        "        self.mem_size = max_mem_size\n",
        "        self.batch_size = batch_size\n",
        "        self.CRV = 100\n",
        "        self.mem_cntr = 0\n",
        "        self.iter_cntr = 0\n",
        "        self.replace_target = 100\n",
        "        self.open_price_real = open_price_real\n",
        "        self.close_price_predicted = close_price_predicted\n",
        "        self.Q_eval = DeepQNetwork(lr, n_actions=n_actions,\n",
        "                                   input_dims=input_dims,\n",
        "                                   fc1_dims=256, fc2_dims=128)\n",
        "        self.state_memory = np.zeros((self.mem_size, *input_dims),\n",
        "                                     dtype=np.float32)\n",
        "        self.new_state_memory = np.zeros((self.mem_size, *input_dims),\n",
        "                                         dtype=np.float32)\n",
        "        self.action_memory = np.zeros(self.mem_size, dtype=np.int32)\n",
        "        self.reward_memory = np.zeros(self.mem_size, dtype=np.float32)\n",
        "        self.terminal_memory = np.zeros(self.mem_size, dtype=np.bool)\n",
        "        self.q_value_store = []\n",
        "    def store_transition(self, state, action, reward, state_, terminal):\n",
        "        index = self.mem_cntr % self.mem_size\n",
        "        self.state_memory[index] = state\n",
        "        self.new_state_memory[index] = state_\n",
        "        self.reward_memory[index] = reward\n",
        "        self.action_memory[index] = action\n",
        "        self.terminal_memory[index] = terminal\n",
        "        self.mem_cntr += 1\n",
        "\n",
        "    def choose_action(self, observation):\n",
        "        if np.random.random() > self.epsilon:\n",
        "            state = T.tensor([observation.tolist()]).to(self.Q_eval.device)\n",
        "            actions = self.Q_eval.forward(state)\n",
        "            action = T.argmax(actions).item()\n",
        "        else:\n",
        "            action = np.random.choice(self.action_space)\n",
        "\n",
        "        return action\n",
        "    def Ns(self):\n",
        "        return np.round(self.CRV / self.open_price_real)\n",
        "    def TP(self):\n",
        "        return 0.5*np.abs(self.close_price_predicted - self.open_price_real) * self.Ns\n",
        "\n",
        "    def learn(self):\n",
        "        if self.mem_cntr < self.batch_size:\n",
        "            return\n",
        "\n",
        "        self.Q_eval.optimizer.zero_grad()\n",
        "\n",
        "        max_mem = min(self.mem_cntr, self.mem_size)\n",
        "\n",
        "        batch = np.random.choice(max_mem, self.batch_size, replace=False)\n",
        "        batch_index = np.arange(self.batch_size, dtype=np.int32)\n",
        "\n",
        "        state_batch = T.tensor(self.state_memory[batch]).to(self.Q_eval.device)\n",
        "        new_state_batch = T.tensor(\n",
        "            self.new_state_memory[batch]).to(self.Q_eval.device)\n",
        "        action_batch = self.action_memory[batch]\n",
        "        reward_batch = T.tensor(\n",
        "            self.reward_memory[batch]).to(self.Q_eval.device)\n",
        "        terminal_batch = T.tensor(\n",
        "            self.terminal_memory[batch]).to(self.Q_eval.device)\n",
        "\n",
        "        q_eval = self.Q_eval.forward(state_batch)[batch_index, action_batch]\n",
        "        q_next = self.Q_eval.forward(new_state_batch)\n",
        "        q_next[terminal_batch] = 0.0\n",
        "        q_target = reward_batch + self.gamma * T.max(q_next, dim=1)[0]\n",
        "        self.q_value_store.append(q_target.mean())\n",
        "        loss = self.Q_eval.loss(q_target, q_eval).to(self.Q_eval.device)\n",
        "        loss.backward()\n",
        "        self.Q_eval.optimizer.step()\n",
        "\n",
        "        self.iter_cntr += 1\n",
        "        self.epsilon = self.epsilon - self.eps_dec \\\n",
        "            if self.epsilon > self.eps_min else self.eps_min\n",
        "def sigmoid(x):\n",
        "  return 1/(1+np.exp(-x))\n",
        "def softmax_stable(Z):\n",
        "    e_Z = np.exp(Z - np.max(Z, axis = 0, keepdims = True))\n",
        "    A = e_Z / e_Z.sum(axis = 0)\n",
        "    return A\n",
        "if __name__ == '__main__':\n",
        "    device = torch.device('cuda:0' if torch.cuda.is_available() else 'cpu')\n",
        "    open_price_real = df.filter(['Open']).values\n",
        "    open_price_real[:357].reshape(357,)\n",
        "    close_price_predicted = predicted_stock_price[:,0]\n",
        "    # env = gym.make('LunarLander-v2')\n",
        "    model = DeepQNetwork(lr=1e-3, n_actions=3, input_dims=[2], fc1_dims=128, fc2_dims=128)\n",
        "    print(\"=========================DEEP O-NETWORK PARAMETERS==========================\")\n",
        "    pms.summary(model, torch.zeros([1, 2], device=device), show_input=False, show_hierarchical=True, print_summary=True)\n",
        "    print(\"============================================================================\")\n",
        "    agent = Agent(gamma=0.99, epsilon=1.0, batch_size=64, n_actions=3, eps_end=0.01,\n",
        "                  input_dims=[2], lr=1e-6, open_price_real = open_price_real, close_price_predicted = close_price_predicted)\n",
        "    scores, eps_history = [], []\n",
        "    episode_count = 100\n",
        "    #Predicted Slope\n",
        "    slope = np.array(slope)\n",
        "    slope = np.reshape(slope, (-1,1))\n",
        "    error_stock_price = predicted_stock_price[675:] - testing_set[:357]\n",
        "    state_size = np.append(slope, y_t[:357,0])\n",
        "    state = state_size.reshape(357,2)\n",
        "    #Real Slope\n",
        "    slope2 = np.array(slope2)\n",
        "    slope2 = np.reshape(slope2, (-1,1))\n",
        "    state_size_actual = np.append(slope2, testing_set[:357])\n",
        "    state_actual = state_size_actual.reshape(357,2)\n",
        "    #Initialize data\n",
        "    action_data_test = []\n",
        "    action_store = []\n",
        "    q_value_store = []\n",
        "    num_correct = 0\n",
        "    accuracy = []\n",
        "    reward_store = []\n",
        "    num_correct_store = []\n",
        "    reward_total = 0\n",
        "    reward_arr = []\n",
        "    action_store_actual = []\n",
        "    num_correct_reward = 0\n",
        "    for i in range(episode_count):\n",
        "      done = False\n",
        "      observation = state[0]\n",
        "      observation_actual = state_actual[0]\n",
        "      j=0\n",
        "      while not done:\n",
        "          action = agent.choose_action(observation)\n",
        "          action_actual = agent.choose_action(observation_actual)\n",
        "          observation_ = state[j+1]\n",
        "          observation_actual_ = state_actual[j+1]\n",
        "          #Take profit\n",
        "          Ns = np.round(100 / open_price_real[0])\n",
        "          reward = 0.5 * np.abs(close_price_predicted[i] - open_price_real[0]) * Ns\n",
        "          num_correct = action==action_actual #one-hot technique\n",
        "          num_correct_store.append(num_correct)\n",
        "          done = False\n",
        "          agent.store_transition(observation, action, reward, observation_, done)\n",
        "          agent.store_transition(observation_actual, action_actual, reward, observation_actual_, done)\n",
        "          agent.learn()          \n",
        "          observation = observation_\n",
        "          observation_actual = observation_actual_\n",
        "          reward_total += reward.mean()\n",
        "          # reward_arr.append(reward)\n",
        "          j = j + 1\n",
        "          if j >= 356:\n",
        "              done = True\n",
        "              reward = reward.mean()\n",
        "      reward_arr.append(reward_total)\n",
        "      reward_store.append(reward)\n",
        "      # num_correct_reward = max(reward_store)[0] / reward_total\n",
        "      # num_correct_reward = np.sum(reward_store) / len(reward_store)\n",
        "      num_correct = np.sum(num_correct_store) / len(num_correct_store)\n",
        "      num_correct = np.max(num_correct, 0)\n",
        "      q_value_store.append(agent.epsilon)\n",
        "      # reward = float(reward[0])\n",
        "      # reward_store.append(reward)\n",
        "      # reward = (reward_store[i] + reward_store[i+1]) / 2\n",
        "      clear_output(wait=True)\n",
        "      table = ['Episode', 'Epsilon', 'Action', 'Reward', 'Accuracy Action']\n",
        "      if action == 1:\n",
        "          headers = [[str(i+1) + \"/\" + str(episode_count), agent.epsilon, 'Buy', reward, '{:.2f}'.format(num_correct*100) + \" %\"]]\n",
        "      elif action == 2:\n",
        "          headers = [[str(i+1) + \"/\" + str(episode_count), agent.epsilon, 'Sell', reward, '{:.2f}'.format(num_correct*100) + \" %\"]]\n",
        "      else:\n",
        "          headers = [[str(i+1) + \"/\" + str(episode_count), agent.epsilon, 'Hold', reward, '{:.2f}'.format(num_correct*100) + \" %\"]]\n",
        "      print(tabulate(headers, table, tablefmt=\"psql\"))\n",
        "      accuracy.append(num_correct)\n",
        "      # reward_store.append(reward)\n",
        "      action_store_actual.append(action_actual)\n",
        "      action_store.append(action)\n",
        "      # fig, axes = plt.subplots(1, 1,figsize=(10, 8))\n",
        "      # axes[0].plot([i for i,_ in enumerate(accuracy)], accuracy, 'go')\n",
        "      # axes[0].set_title(\"Tested Action\")\n",
        "      # axes[0].set_xlabel(\"Episode\")\n",
        "      # axes[0].set_ylabel(\"Accuracy\")\n",
        "      # axes[0,1].plot([i for i,_ in enumerate(q_value_store)], q_value_store, 'r-')\n",
        "      # axes[0,1].set_title(\"Epsilon Fluctuation\")\n",
        "      # axes[0,1].set_xlabel(\"Episode\")\n",
        "      # axes[0,1].set_ylabel(\"Epsilon\")\n",
        "      # axes[1,0].plot([i for i,_ in enumerate(reward_store)], reward_store, 'm-', marker='^')\n",
        "      # axes[1,0].set_title(\"Profit\")\n",
        "      # axes[1,0].set_xlabel(\"Episode\")\n",
        "      # axes[1,0].set_ylabel(\"Reward\")\n",
        "      # axes[1,1].plot([i for i,_ in enumerate(reward_store)], reward_store, 'm-')\n",
        "      # if action_store[i] == 1:\n",
        "      #   axes[1,1].plot(i, reward,marker='>', markerfacecolor = 'r',label='Buy',markersize=12)\n",
        "      # elif action_store[i] == 2:\n",
        "      #   axes[1,1].plot(i, reward,marker='<', markerfacecolor='g', label='Sell',markersize=12)\n",
        "      # else:\n",
        "      #   axes[1,1].plot(i, reward,marker='o', markerfacecolor='k', label='Hold',markersize=12)\n",
        "      # axes[1,1].set_title(\"Profit and Predicted Action\")\n",
        "      # axes[1,1].set_xlabel(\"Episode\")\n",
        "      # axes[1,1].set_ylabel(\"Reward\")\n",
        "      # axes[1,1].legend(loc='best')\n",
        "      # axes = axes.flatten()\n",
        "      plt.figure(figsize=(10,8))\n",
        "      plt.plot([i for i,_ in enumerate(accuracy)], accuracy, 'go')\n",
        "      plt.title('Tested Action')\n",
        "      plt.xlabel('Episode')\n",
        "      plt.ylabel('Accuracy')\n",
        "      plt.legend()\n",
        "      \n",
        "      plt.figure(figsize=(10,8))\n",
        "      plt.plot([i for i,_ in enumerate(q_value_store)], q_value_store, 'r-', label='Epsilon')\n",
        "      plt.title('Epsilon Fluctuation')\n",
        "      plt.xlabel('Episode')\n",
        "      plt.ylabel('Epsilon')\n",
        "      plt.legend()\n",
        "\n",
        "\n",
        "      plt.figure(figsize=(10,8))\n",
        "      plt.plot([i for i,_ in enumerate(reward_store)], reward_store, 'm-', marker = '^', label='Profit')\n",
        "      plt.title('Profit Diagram')\n",
        "      plt.xlabel('Episode')\n",
        "      plt.ylabel('Profit')\n",
        "      plt.legend()\n",
        "\n",
        "      # plt.figure(figsize=(10,8))\n",
        "      # plt.plot([i for i,_ in enumerate(reward_store)], reward_store, 'm-')\n",
        "      # if action_store[i] == 1:\n",
        "      #   plt.plot(i, reward,marker='>', markerfacecolor = 'r',label='Buy',markersize=12)\n",
        "      # elif action_store[i] == 2:\n",
        "      #   plt.plot(i, reward,marker='<', markerfacecolor='g', label='Sell',markersize=12)\n",
        "      # else:\n",
        "      #   plt.plot(i, reward,marker='o', markerfacecolor='k', label='Hold',markersize=12)\n",
        "      # plt.title('Profit and Predicted Action')\n",
        "      # plt.xlabel('Episode')\n",
        "      # plt.ylabel('Reward')\n",
        "      plt.legend()\n",
        "      plt.show()\n",
        "    filename = '/content/reward.png'\n",
        "    plt.savefig(filename)\n",
        "    torch.save(model.state_dict(), '/content/my_checkpoint.h5')\n",
        "    # plotLearning(x, scores, eps_history, filename)"
      ]
    },
    {
      "cell_type": "code",
      "execution_count": null,
      "metadata": {
        "id": "V9JtFNYgAuUC",
        "colab": {
          "base_uri": "https://localhost:8080/",
          "height": 569
        },
        "outputId": "b6571a62-60c2-41c0-f657-bc881dee3bcc"
      },
      "outputs": [
        {
          "output_type": "stream",
          "name": "stdout",
          "text": [
            "[1, 2, 2, 2, 2, 2, 2, 2, 2, 2, 2, 2, 2, 2, 2, 2, 2, 2, 1, 1, 2, 2, 2, 1, 2, 1, 2, 2, 1, 2, 2, 1, 1, 2, 2, 1, 2, 2, 1, 1, 1, 2, 1, 2, 1, 1, 1, 1, 1, 1, 1, 1, 1, 1, 1, 2, 1, 1, 1, 1, 1, 1, 1, 1, 1, 1, 1, 1, 1, 1, 1, 1, 1, 1, 1, 1, 1, 1, 1, 2, 1, 1, 1, 1, 1, 1, 1, 1, 1, 1, 1, 1, 1, 1, 1, 0, 1, 1, 2, 1]\n"
          ]
        },
        {
          "output_type": "execute_result",
          "data": {
            "text/plain": [
              "<matplotlib.legend.Legend at 0x7fc6f3e0cd90>"
            ]
          },
          "metadata": {},
          "execution_count": 34
        },
        {
          "output_type": "display_data",
          "data": {
            "text/plain": [
              "<Figure size 720x576 with 1 Axes>"
            ],
            "image/png": "[encoded data removed]"
          },
          "metadata": {
            "needs_background": "light"
          }
        }
      ],
      "source": [
        "import matplotlib.pyplot as plt\n",
        "import numpy as np\n",
        "\n",
        "sigPriceBuy = []\n",
        "sigPriceSell=[]\n",
        "print(action_store)\n",
        "for i in range(len(action_store)):\n",
        "  if action_store[i] == 1:\n",
        "    sigPriceBuy.append(reward_store[i])\n",
        "    sigPriceSell.append(np.nan)\n",
        "  elif action_store[i] == 2:\n",
        "    sigPriceBuy.append(np.nan)\n",
        "    sigPriceSell.append(reward_store[i])\n",
        "  else:\n",
        "    sigPriceBuy.append(np.nan)\n",
        "    sigPriceSell.append(np.nan)\n",
        "\n",
        "plt.figure(figsize=(10, 8))\n",
        "plt.title('Profit and Predicted Actions Diagram')\n",
        "plt.xlabel('Episode')\n",
        "plt.ylabel('Profit')\n",
        "plt.plot(reward_store,'black',label='Profit')\n",
        "plt.plot(sigPriceBuy,'g<',label = 'Buy')\n",
        "plt.plot(sigPriceSell,'r>',label = 'Sell')\n",
        "plt.legend(loc='best')"
      ]
    },
    {
      "cell_type": "code",
      "execution_count": null,
      "metadata": {
        "id": "axDwhHO_Lnr6",
        "colab": {
          "base_uri": "https://localhost:8080/",
          "height": 569
        },
        "outputId": "f559ce34-0ca2-4db5-b846-c8124affa4b1"
      },
      "outputs": [
        {
          "output_type": "stream",
          "name": "stdout",
          "text": [
            "[0, 0, 2, 2, 2, 1, 1, 2, 1, 1, 1, 2, 2, 1, 2, 2, 2, 1, 1, 1, 2, 2, 2, 1, 1, 1, 2, 2, 2, 2, 2, 2, 2, 2, 2, 2, 2, 2, 1, 1, 1, 2, 1, 2, 2, 2, 1, 1, 2, 1, 2, 1, 2, 1, 1, 2, 1, 2, 2, 1, 2, 1, 1, 2, 1, 1, 2, 2, 2, 1, 2, 1, 1, 1, 1, 2, 1, 1, 2, 2, 1, 1, 1, 1, 1, 2, 1, 1, 1, 1, 2, 1, 2, 1, 2, 2, 2, 2, 2, 2]\n"
          ]
        },
        {
          "output_type": "execute_result",
          "data": {
            "text/plain": [
              "<matplotlib.legend.Legend at 0x7fc7150d7850>"
            ]
          },
          "metadata": {},
          "execution_count": 35
        },
        {
          "output_type": "display_data",
          "data": {
            "text/plain": [
              "<Figure size 720x576 with 1 Axes>"
            ],
            "image/png": "[encoded data removed]"
          },
          "metadata": {
            "needs_background": "light"
          }
        }
      ],
      "source": [
        "import matplotlib.pyplot as plt\n",
        "import numpy as np\n",
        "\n",
        "sigPriceBuy = []\n",
        "sigPriceSell=[]\n",
        "print(action_store_actual)\n",
        "for i in range(len(action_store_actual)):\n",
        "  if action_store_actual[i] == 1:\n",
        "    sigPriceBuy.append(reward_store[i])\n",
        "    sigPriceSell.append(np.nan)\n",
        "  elif action_store_actual[i] == 2:\n",
        "    sigPriceBuy.append(np.nan)\n",
        "    sigPriceSell.append(reward_store[i])\n",
        "  else:\n",
        "    sigPriceBuy.append(np.nan)\n",
        "    sigPriceSell.append(np.nan)\n",
        "\n",
        "plt.figure(figsize=(10, 8))\n",
        "plt.title('Profit and Predicted Actions Diagram')\n",
        "plt.xlabel('Episode')\n",
        "plt.ylabel('Profit')\n",
        "plt.plot(reward_store,'black',label='Profit')\n",
        "plt.plot(sigPriceBuy,'g<',label = 'Buy')\n",
        "plt.plot(sigPriceSell,'r>',label = 'Sell')\n",
        "plt.legend(loc='best')"
      ]
    }
  ],
  "metadata": {
    "accelerator": "GPU",
    "colab": {
      "provenance": []
    },
    "gpuClass": "standard",
    "kernelspec": {
      "display_name": "Python 3",
      "name": "python3"
    },
    "language_info": {
      "name": "python"
    }
  },
  "nbformat": 4,
  "nbformat_minor": 0
}